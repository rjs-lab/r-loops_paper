{
 "cells": [
  {
   "cell_type": "markdown",
   "id": "a40a133f-208d-4785-8dea-6dbdd5c5b6dc",
   "metadata": {},
   "source": [
    "### Code snipppets for generating venn diagrams of overlapping peaks or genes"
   ]
  },
  {
   "cell_type": "code",
   "execution_count": null,
   "id": "998b038a-6426-4840-8ec7-2259cfea39f0",
   "metadata": {},
   "outputs": [],
   "source": [
    "from __future__ import annotations\n",
    "from pathlib import Path\n",
    "import matplotlib as mpl\n",
    "\n",
    "mpl.rcParams['font.sans-serif'] = ['Arial']\n",
    "mpl.rcParams['font.family'] = 'sans-serif'\n",
    "# Make SVG text as font not as curves\n",
    "mpl.rcParams['svg.fonttype'] = 'none'\n",
    "\n",
    "import matplotlib.pyplot as plt\n",
    "from matplotlib_venn import venn2, venn2_circles"
   ]
  },
  {
   "cell_type": "code",
   "execution_count": null,
   "id": "ea81e1f9-fc41-4e91-9769-26ba1d81606a",
   "metadata": {},
   "outputs": [],
   "source": [
    "SAVE_FIGS = True"
   ]
  },
  {
   "cell_type": "code",
   "execution_count": null,
   "id": "e855c23e-399e-40ed-af89-b3364ab23c9a",
   "metadata": {},
   "outputs": [],
   "source": [
    "DEST_DIR_PATH = Path(r\"/path/to/venns\")"
   ]
  },
  {
   "cell_type": "code",
   "execution_count": null,
   "id": "7cacc27f-c994-4e60-9760-05eb734f6e83",
   "metadata": {},
   "outputs": [],
   "source": [
    "def get_file_line_count(file_path: Path) -> int:\n",
    "    with open(file_path, 'r') as file:\n",
    "        for i, l in enumerate(file):\n",
    "            pass\n",
    "        return i + 1"
   ]
  },
  {
   "cell_type": "code",
   "execution_count": null,
   "id": "8bf24f0e-292e-4efe-a463-7ccc92f9a498",
   "metadata": {
    "tags": []
   },
   "outputs": [],
   "source": [
    "def generate_set_sizes(file_set_a: Path, file_set_b: Path, file_set_inter: Path) -> Tuple[int]:\n",
    "    \"\"\"\n",
    "    Helper function for generating item (peaks) counts for plotting.\n",
    "    \n",
    "    The returned order is: Left set item count (minus intersection), \n",
    "    Right set item count (minus intersection), intersection.\n",
    "    \"\"\"\n",
    "    \n",
    "    set_a_size = get_file_line_count(file_set_a)\n",
    "    set_b_size = get_file_line_count(file_set_b)\n",
    "    set_inter_size = get_file_line_count(file_set_inter)\n",
    "    \n",
    "    return (\n",
    "        set_a_size - set_inter_size,\n",
    "        set_b_size - set_inter_size,\n",
    "        set_inter_size\n",
    "    )"
   ]
  },
  {
   "cell_type": "code",
   "execution_count": null,
   "id": "a126d473-49bc-48c0-96d4-352abae74d54",
   "metadata": {},
   "outputs": [],
   "source": [
    "def change_font_size(venn, subset_font_size, label_font_size):\n",
    "    for x in range(len(venn.subset_labels)):\n",
    "        if venn.subset_labels[x] is not None:\n",
    "            venn.subset_labels[x].set_fontsize(subset_font_size)\n",
    "    for text in venn.set_labels:\n",
    "        text.set_fontsize(label_font_size)"
   ]
  },
  {
   "cell_type": "code",
   "execution_count": null,
   "id": "8d1c4abd-75a0-4cce-af5f-f00e3971da63",
   "metadata": {},
   "outputs": [],
   "source": [
    "def change_font(venn, font_family, subset_font_size, label_font_size):\n",
    "    for x in range(len(venn.subset_labels)):\n",
    "        if venn.subset_labels[x] is not None:\n",
    "            venn.subset_labels[x].set_family(font_family)\n",
    "            venn.subset_labels[x].set_fontsize(subset_font_size)\n",
    "    for text in venn.set_labels:\n",
    "        text.set_fontsize(label_font_size)\n",
    "        text.set_family(font_family)"
   ]
  },
  {
   "cell_type": "code",
   "execution_count": null,
   "id": "5ebcc8c8-4de8-424e-af4d-6cfa1b8983e1",
   "metadata": {},
   "outputs": [],
   "source": [
    "def plot_venn2_colors(subsets, set_labels, color_mapping: dict):\n",
    "    \"\"\"\n",
    "    Funtion to plot venn diagram\n",
    "    \n",
    "    subsets: a tuple with three numbers to plot (left, right, intersection)\n",
    "    set_labels: the labels/names of the sets\n",
    "    color_mapping: a dictionary mapping the name of a set to its color (RGB)\n",
    "    \"\"\"\n",
    "    fig, ax = plt.subplots(1, figsize=(3, 3))\n",
    "    venn = venn2(subsets=subsets, set_labels=set_labels, alpha=0.5, ax=ax)\n",
    "    \n",
    "    venn.get_patch_by_id('10').set_color(color_mapping[set_labels[0]])\n",
    "    venn.get_patch_by_id('01').set_color(color_mapping[set_labels[1]])\n",
    "\n",
    "    venn.get_patch_by_id('10').set_alpha(0.7)\n",
    "    venn.get_patch_by_id('01').set_alpha(0.7)\n",
    "    venn.get_patch_by_id('11').set_alpha(0.5)\n",
    "\n",
    "    _ = venn2_circles(subsets=subsets, linewidth=0.5, ax=ax)\n",
    "    change_font(venn, \"sans-serif\", 9, 9)\n",
    "    fig.tight_layout()\n",
    "    return fig"
   ]
  },
  {
   "cell_type": "code",
   "execution_count": null,
   "id": "2d555acc-4cf6-4c67-9d66-5f1bcc57c64d",
   "metadata": {},
   "outputs": [],
   "source": [
    "color_mappings = {\n",
    "    'Example_Set_1': '#3C5488',\n",
    "    'Example_Set_2': '#00A087',\n",
    "    'Example_Set_3': '#E64B35',\n",
    "    'Example_Set_4': '#8491B4',\n",
    "}"
   ]
  },
  {
   "cell_type": "markdown",
   "id": "9965526b-93c8-448a-a835-8be4750a8236",
   "metadata": {},
   "source": [
    "#### Peaks/Genes overlap"
   ]
  },
  {
   "cell_type": "code",
   "execution_count": null,
   "id": "ebaf09c0-debb-45ff-8458-425a1cfeed07",
   "metadata": {},
   "outputs": [],
   "source": [
    "# Based on line counts in the files generate numbers to plot\n",
    "two_subsets = generate_set_sizes(\n",
    "    Path(r\"/path/to/peaks/example_file_with_peak_set_1.narrowPeak\"),\n",
    "    Path(r\"/path/to/peaks/example_file_with_peak_set_2.narrowPeak\"),\n",
    "    Path(r\"/path/to/peaks/example_file_with_overlapping_peaks.bed\")\n",
    ")"
   ]
  },
  {
   "cell_type": "code",
   "execution_count": null,
   "id": "7a9d5867-7d6b-4054-a58f-5f25c073f7c5",
   "metadata": {},
   "outputs": [],
   "source": [
    "venn_fig = plot_venn2_colors(\n",
    "    two_subsets, \n",
    "    ('Example_Set_1', 'Example_Set_2'), \n",
    "    color_mappings\n",
    ")"
   ]
  },
  {
   "cell_type": "code",
   "execution_count": null,
   "id": "b5c79f4b-8b08-4973-ac63-03f204841174",
   "metadata": {},
   "outputs": [],
   "source": [
    "if SAVE_FIGS:\n",
    "    venn_fig.savefig(\n",
    "        DEST_DIR_PATH.joinpath(\"venn_Set_1_vs_Set_2.pdf\"), \n",
    "        format='pdf', dpi=600, transparent=True\n",
    "    )\n",
    "    venn_fig.savefig(\n",
    "        DEST_DIR_PATH.joinpath(\"venn_Set_1_vs_Set_2.jpg\"), \n",
    "        format='jpg', dpi=600, transparent=True\n",
    "    )"
   ]
  }
 ],
 "metadata": {
  "kernelspec": {
   "display_name": "Python 3 (ipykernel)",
   "language": "python",
   "name": "python3"
  },
  "language_info": {
   "codemirror_mode": {
    "name": "ipython",
    "version": 3
   },
   "file_extension": ".py",
   "mimetype": "text/x-python",
   "name": "python",
   "nbconvert_exporter": "python",
   "pygments_lexer": "ipython3",
   "version": "3.8.0"
  }
 },
 "nbformat": 4,
 "nbformat_minor": 5
}
