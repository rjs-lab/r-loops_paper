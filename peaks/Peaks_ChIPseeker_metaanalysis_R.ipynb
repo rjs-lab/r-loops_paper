{
 "cells": [
  {
   "cell_type": "markdown",
   "metadata": {},
   "source": [
    "## Peaks annotation - ChIPseeker \n",
    "Analysis done using ChIPseeker R package\n",
    "\n",
    "Wang Q, Li M, Wu T, Zhan L, Li L, Chen M, Xie W, Xie Z, Hu E, Xu S, Yu G (2022). “Exploring epigenomic datasets by ChIPseeker.” Current Protocols, 2(10), e585. doi:10.1002/cpz1.585, https://onlinelibrary.wiley.com/share/author/GYJGUBYCTRMYJFN2JFZZ?target=10.1002/cpz1.585."
   ]
  },
  {
   "cell_type": "code",
   "execution_count": null,
   "metadata": {},
   "outputs": [],
   "source": [
    "library(ChIPseeker)\n",
    "library(TxDb.Hsapiens.UCSC.hg38.knownGene)"
   ]
  },
  {
   "cell_type": "code",
   "execution_count": null,
   "metadata": {},
   "outputs": [],
   "source": [
    "txdb <- TxDb.Hsapiens.UCSC.hg38.knownGene\n",
    "txdb"
   ]
  },
  {
   "cell_type": "code",
   "execution_count": null,
   "metadata": {},
   "outputs": [],
   "source": [
    "# A path to the .narrowPeak or .broadPeak file (returned by MACS2 in our case)\n",
    "peak_file_path = \"path\\\\to\\\\peaks\\\\example_file.narrowPeak\"\n",
    "\n",
    "ANNO_DEST_DIR_PATH = \"path\\\\to\\\\peaks\\\\\""
   ]
  },
  {
   "cell_type": "code",
   "execution_count": null,
   "metadata": {},
   "outputs": [],
   "source": [
    "peakAnno.edb <- annotatePeak(peak_file_path, tssRegion=c(-3000, 3000),\n",
    "                             TxDb=txdb, annoDb=\"org.Hs.eg.db\")"
   ]
  },
  {
   "cell_type": "code",
   "execution_count": null,
   "metadata": {},
   "outputs": [],
   "source": [
    "peakAnno.edb@annoStat"
   ]
  },
  {
   "cell_type": "code",
   "execution_count": null,
   "metadata": {},
   "outputs": [],
   "source": [
    "dest_file_name <- tools::file_path_sans_ext(basename(peak_file_path))"
   ]
  },
  {
   "cell_type": "code",
   "execution_count": null,
   "metadata": {},
   "outputs": [],
   "source": [
    "dest_tsv_file_path <- paste0(ANNO_DEST_DIR_PATH, dest_file_name, '_annotation.tsv')\n",
    "dest_stats_file_path <- paste0(ANNO_DEST_DIR_PATH, dest_file_name, '_stats.tsv')\n",
    "\n",
    "write.table(peakAnno.edb, dest_tsv_file_path, sep=\"\\t\", quote=FALSE)\n",
    "write.table(peakAnno.edb@annoStat, dest_stats_file_path, sep=\"\\t\", quote=FALSE)"
   ]
  }
 ],
 "metadata": {
  "finalized": {
   "timestamp": 1747576991411,
   "trusted": true
  },
  "kernelspec": {
   "display_name": "R",
   "language": "R",
   "name": "ir"
  },
  "language_info": {
   "codemirror_mode": "r",
   "file_extension": ".r",
   "mimetype": "text/x-r-source",
   "name": "R",
   "pygments_lexer": "r",
   "version": "3.6.0"
  }
 },
 "nbformat": 4,
 "nbformat_minor": 2
}
