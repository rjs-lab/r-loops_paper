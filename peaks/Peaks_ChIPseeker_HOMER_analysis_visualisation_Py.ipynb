{
 "cells": [
  {
   "cell_type": "markdown",
   "id": "75306839-caf9-421e-8361-781329a5afcb",
   "metadata": {},
   "source": [
    "### Peak annotation results visualisation\n",
    "\n",
    "Annotation was done with HOMER and ChIPseeker"
   ]
  },
  {
   "cell_type": "code",
   "execution_count": null,
   "id": "73879522-8761-4f2d-b827-64568ab6e96c",
   "metadata": {},
   "outputs": [],
   "source": [
    "from pathlib import Path\n",
    "import matplotlib as mpl\n",
    "\n",
    "mpl.rcParams['font.sans-serif'] = ['Arial']\n",
    "mpl.rcParams['font.family'] = 'sans-serif'\n",
    "\n",
    "import numpy as np\n",
    "import pandas as pd\n",
    "import matplotlib.pyplot as plt\n",
    "import seaborn as sns\n",
    "\n",
    "from collections import Counter"
   ]
  },
  {
   "cell_type": "code",
   "execution_count": null,
   "id": "273237a7-450d-4f7c-ab2e-fb35efa8ccb5",
   "metadata": {},
   "outputs": [],
   "source": [
    "SAVE_FIGS = True"
   ]
  },
  {
   "cell_type": "markdown",
   "id": "607c9556-791f-4cb3-8099-e6bc03409ddb",
   "metadata": {},
   "source": [
    "Drawing helper functions"
   ]
  },
  {
   "cell_type": "code",
   "execution_count": null,
   "id": "ee55cb69-9864-42c0-9923-4b61357f34fc",
   "metadata": {},
   "outputs": [],
   "source": [
    "def add_alpha(rgb_str, alpha_value):\n",
    "    return rgb_str+f\"{alpha_value:0{2}x}\".upper()"
   ]
  },
  {
   "cell_type": "code",
   "execution_count": null,
   "id": "0e214ea0-e0f4-44c7-9981-a8032792218e",
   "metadata": {
    "tags": []
   },
   "outputs": [],
   "source": [
    "def generate_color_list(color_mapping, samples, alpha):\n",
    "    return [add_alpha(color_mapping[sample], alpha) for sample in samples]"
   ]
  },
  {
   "cell_type": "code",
   "execution_count": null,
   "id": "5c0f2933-a831-4d30-802e-503a5578858e",
   "metadata": {},
   "outputs": [],
   "source": [
    "def generate_alpha_gradient(rgb_str, steps_cnt, step_size):\n",
    "    return [add_alpha(rgb_str, 255-x*step_size) for x in range(steps_cnt)]\n",
    "\n",
    "# Test\n",
    "# generate_alpha_gradient(\"#AABBCC\", 4, 30)"
   ]
  },
  {
   "cell_type": "markdown",
   "id": "bb7d74e1-04f4-4da9-a4b9-fcc29ca9df07",
   "metadata": {},
   "source": [
    "#### HOMER annotation analysis summary for dougnut plots"
   ]
  },
  {
   "cell_type": "code",
   "execution_count": null,
   "id": "2ba7da5d-8ada-46b2-a5f3-f4935d391973",
   "metadata": {},
   "outputs": [],
   "source": [
    "SRC_DIR_PATH = Path(r\"/path/to/peaks_anno/homer\")"
   ]
  },
  {
   "cell_type": "code",
   "execution_count": null,
   "id": "712d7dfd-1427-4bcb-85a7-920116237aab",
   "metadata": {},
   "outputs": [],
   "source": [
    "DEST_FIG_DIR_PATH = Path(r\"/path/to/peaks_anno/homer\")"
   ]
  },
  {
   "cell_type": "code",
   "execution_count": null,
   "id": "fc92ce1f-c255-47a0-83d0-bb71f8e45410",
   "metadata": {},
   "outputs": [],
   "source": [
    "# Less verbose, space-lacking column names\n",
    "col_names = ['PeakID', 'Chr', 'Start', 'End', 'Strand', 'Peak_Score', \n",
    "             'Focus_Ratio_Region_Size', 'Annotation', 'Detailed_Annotation', \n",
    "             'Distance_to_TSS', 'Nearest_PromoterID', 'Entrez_ID', \n",
    "             'Nearest_Unigene', 'Nearest_Refseq', 'Nearest_Ensembl', \n",
    "             'Gene_Name', 'Gene_Alias', 'Gene_Description', 'Gene_Type']"
   ]
  },
  {
   "cell_type": "code",
   "execution_count": null,
   "id": "16ed7b3f-bb2e-497e-90ce-fdc1ac9c2144",
   "metadata": {},
   "outputs": [],
   "source": [
    "# HOMER annotation result file\n",
    "anno_file_name = \"Example_peaks_homer_anno.tsv\""
   ]
  },
  {
   "cell_type": "code",
   "execution_count": null,
   "id": "b98e2e0b-d3ec-4fdd-9687-f5c9f68f989b",
   "metadata": {},
   "outputs": [],
   "source": [
    "anno_data = pd.read_csv(SRC_DIR_PATH.joinpath(anno_file_name), sep='\\t', header=None, skiprows=1)"
   ]
  },
  {
   "cell_type": "code",
   "execution_count": null,
   "id": "0cbe250e-0eee-4b33-a306-68eb8008501f",
   "metadata": {},
   "outputs": [],
   "source": [
    "anno_data.columns = col_names"
   ]
  },
  {
   "cell_type": "code",
   "execution_count": null,
   "id": "f2dda573-d273-498e-83ff-1a89df800bd2",
   "metadata": {
    "tags": []
   },
   "outputs": [],
   "source": [
    "anno_data.head(3)"
   ]
  },
  {
   "cell_type": "markdown",
   "id": "684cbf46-f49b-4543-8e9e-0313b073ef76",
   "metadata": {},
   "source": [
    "The data in Annotation column may contain ENTREZ ID in the brackets.\n",
    "Let's get rid of this."
   ]
  },
  {
   "cell_type": "code",
   "execution_count": null,
   "id": "20008c46-d32a-4b4c-8c12-043407432580",
   "metadata": {},
   "outputs": [],
   "source": [
    "def split_anno(anno):\n",
    "    try:\n",
    "        res = anno.split(\"(\")[0]\n",
    "    except:\n",
    "        return anno\n",
    "    return res\n",
    "\n",
    "annotations = anno_data['Annotation'].apply(split_anno)"
   ]
  },
  {
   "cell_type": "markdown",
   "id": "894c6f03-8cf9-4a28-84ec-770bad8cf6d8",
   "metadata": {},
   "source": [
    "Get rid of white spaces and NA entries"
   ]
  },
  {
   "cell_type": "code",
   "execution_count": null,
   "id": "1762209b-f007-4c02-88b0-40057926231c",
   "metadata": {},
   "outputs": [],
   "source": [
    "annotations = [anno.strip() for anno in annotations if not pd.isna(anno)]"
   ]
  },
  {
   "cell_type": "code",
   "execution_count": null,
   "id": "5444eecf-e509-4dc0-a6f6-5052347e7f41",
   "metadata": {},
   "outputs": [],
   "source": [
    "# len(annotations)"
   ]
  },
  {
   "cell_type": "markdown",
   "id": "4a18db92-954a-4855-af76-96128b2b5bbe",
   "metadata": {},
   "source": [
    "Merge \"intron\" and \"exon\" as a \"gene body\""
   ]
  },
  {
   "cell_type": "code",
   "execution_count": null,
   "id": "af0c94af-97c4-4504-a539-ea12a2cc2646",
   "metadata": {},
   "outputs": [],
   "source": [
    "annotations_bis = ['Gene body' if anno in ['intron', 'exon'] else anno for anno in annotations]\n",
    "annotations_bis = ['TES' if anno=='TTS' else anno for anno in annotations_bis]"
   ]
  },
  {
   "cell_type": "code",
   "execution_count": null,
   "id": "8ff1fed3-acd3-4731-8d48-273c3190564e",
   "metadata": {},
   "outputs": [],
   "source": [
    "ct = Counter(annotations_bis)"
   ]
  },
  {
   "cell_type": "code",
   "execution_count": null,
   "id": "eef3835c-8f8a-4120-871a-24c4a797a154",
   "metadata": {},
   "outputs": [],
   "source": [
    "ct"
   ]
  },
  {
   "cell_type": "code",
   "execution_count": null,
   "id": "b24fa49d-1c8b-483a-b222-c4600b0160bd",
   "metadata": {},
   "outputs": [],
   "source": [
    "ct_dict = dict(ct)"
   ]
  },
  {
   "cell_type": "code",
   "execution_count": null,
   "id": "962d7185-f45d-41d8-aad0-bb04b4dcc84b",
   "metadata": {},
   "outputs": [],
   "source": [
    "ct_dict"
   ]
  },
  {
   "cell_type": "code",
   "execution_count": null,
   "id": "b7059490-f2e2-4608-944a-74bca331a99f",
   "metadata": {},
   "outputs": [],
   "source": [
    "# Color mappings, so we can assign a specific color \n",
    "# to each data set accross entrire project\n",
    "\n",
    "color_mappings = {\n",
    "    'Example_Set_1': '#3C5488',\n",
    "    'Example_Set_2': '#00A087',\n",
    "    'Example_Set_3': '#E64B35',\n",
    "    'Example_Set_4': '#8491B4',\n",
    "}"
   ]
  },
  {
   "cell_type": "code",
   "execution_count": null,
   "id": "050c0211-3404-4b5b-a1d7-238feea7dee7",
   "metadata": {},
   "outputs": [],
   "source": [
    "colors = generate_alpha_gradient(color_mappings['Example_Set_1'], 4, 50)\n",
    "\n",
    "ax, fig = plt.subplots()\n",
    "_ = plt.pie(ct_dict.values(), autopct='%.1f%%', colors=colors, labels = ct_dict.keys(),\n",
    "       wedgeprops={'linewidth': 1.0, 'edgecolor': 'white'}, pctdistance=0.75,\n",
    "       textprops={'size': 12})\n",
    "\n",
    "centre_circle = plt.Circle((0, 0), 0.55, fc='white')\n",
    "fig = plt.gcf()\n",
    "\n",
    "# Adding Circle in Pie chart\n",
    "_ = fig.gca().add_artist(centre_circle)\n",
    "\n",
    "fig.show()"
   ]
  },
  {
   "cell_type": "code",
   "execution_count": null,
   "id": "9f549103-e957-49da-923c-e0877f959b89",
   "metadata": {},
   "outputs": [],
   "source": [
    "dest_fig_file_stem = 'Example_peaks_homer_anno_piechart'\n",
    "\n",
    "if SAVE_FIGS:\n",
    "    fig.savefig(DEST_FIG_DIR_PATH.joinpath(dest_fig_file_stem+\".pdf\"), format='pdf', dpi=600)\n",
    "    fig.savefig(DEST_FIG_DIR_PATH.joinpath(dest_fig_file_stem+\".jpg\"), format='jpg', dpi=600)"
   ]
  },
  {
   "cell_type": "markdown",
   "id": "658c8b86-810a-4fe4-94f7-82a86d05ce2b",
   "metadata": {},
   "source": [
    "<BR>"
   ]
  },
  {
   "cell_type": "markdown",
   "id": "7bc054fa-a2bc-47b0-9f92-942084d38c2a",
   "metadata": {},
   "source": [
    "### ChIPSeeker peaks annotation visualisation"
   ]
  },
  {
   "cell_type": "markdown",
   "id": "9fb8406d-bf19-49ef-8f72-d6826f83cd7b",
   "metadata": {},
   "source": [
    "##### Create a file summarizing all the data first"
   ]
  },
  {
   "cell_type": "code",
   "execution_count": null,
   "id": "dadf6688-5849-4696-848f-1ad918a47a93",
   "metadata": {},
   "outputs": [],
   "source": [
    "CS_SRC_PATH = Path(r\"/path/to/peaks_anno/chipseeker\")"
   ]
  },
  {
   "cell_type": "code",
   "execution_count": null,
   "id": "1f783380-477f-4a25-8fa7-a6416cb84b9d",
   "metadata": {},
   "outputs": [],
   "source": [
    "features = [\"Promoter (<=1kb)\", \"Promoter (1-2kb)\", \"Promoter (2-3kb)\",\n",
    "            \"5' UTR\", \"3' UTR\", '1st Exon', 'Other Exon', '1st Intron',\n",
    "            'Other Intron', 'Downstream (<=300)', 'Distal Intergenic']\n",
    "\n",
    "def fill_missing_features(data: pd.DataFrame):\n",
    "    actual_features = data['Feature'].unique()\n",
    "\n",
    "    missing_features = set(features).difference(set(actual_features))\n",
    "\n",
    "    for f in missing_features:\n",
    "        tmp = {\n",
    "            \"Feature\": f,\n",
    "            \"Frequency\": 0\n",
    "        }\n",
    "        data = data.append(tmp, ignore_index=True)\n",
    "\n",
    "    return data"
   ]
  },
  {
   "cell_type": "markdown",
   "id": "e7b726fd-7389-4290-a9e1-64fad6666376",
   "metadata": {},
   "source": [
    "Read in all the ChIPSseeker-generated stats files \n",
    "(generated in using a separate R script, included in the repo)"
   ]
  },
  {
   "cell_type": "code",
   "execution_count": null,
   "id": "118248a8-de45-42b0-ba13-99df2856080d",
   "metadata": {},
   "outputs": [],
   "source": [
    "df_columns = [\"sample\", \"feature\", \"frequency\"]\n",
    "\n",
    "final_df = pd.DataFrame(columns=df_columns)\n",
    "\n",
    "for file_name in CS_SRC_PATH.glob(\"*_stats.tsv\"):\n",
    "    # We always put the name of a sample\n",
    "    # at the begining of the file name.\n",
    "    sample_name = file_name.name.split(\"_\")[0]\n",
    "    print(sample_name)\n",
    "    \n",
    "    tmp_df = pd.DataFrame(columns=df_columns)\n",
    "    tmp_feature_data = pd.read_csv(file_name, sep=\"\\t\")\n",
    "\n",
    "    tmp_feature_data = fill_missing_features(tmp_feature_data)\n",
    "\n",
    "    tmp_df['feature'] = tmp_feature_data['Feature']\n",
    "    tmp_df['frequency'] = tmp_feature_data['Frequency']\n",
    "    tmp_df['sample'] = sample_name\n",
    "    \n",
    "    final_df = final_df.append(tmp_df, ignore_index=True)\n",
    "    del tmp_df, tmp_feature_data"
   ]
  },
  {
   "cell_type": "code",
   "execution_count": null,
   "id": "ef707266-3662-43df-ac9b-8e32764dcbb2",
   "metadata": {},
   "outputs": [],
   "source": [
    "# Check all the sample names\n",
    "final_df['sample'].unique()"
   ]
  },
  {
   "cell_type": "markdown",
   "id": "90e88413-5a4f-4da6-92fe-817dbc1cdd43",
   "metadata": {},
   "source": [
    "Write the data to an Excel file so we do not need to go through the \n",
    "above summary again if we just tweak the visualisation part."
   ]
  },
  {
   "cell_type": "code",
   "execution_count": null,
   "id": "1ca3dc30-4366-43e8-a13a-837dbe779c9b",
   "metadata": {},
   "outputs": [],
   "source": [
    "final_df.to_excel(CS_SRC_PATH.joinpath(\"all_sets_anno_summary.xlsx\"), index=False)"
   ]
  },
  {
   "cell_type": "markdown",
   "id": "c3cdbf4d-0a2c-4e9c-9800-378554bc7ab2",
   "metadata": {},
   "source": [
    "<BR>"
   ]
  },
  {
   "cell_type": "markdown",
   "id": "60bf6049-e632-4766-9e02-e773a8a0039f",
   "metadata": {},
   "source": [
    "#### Draw a bar plot with features distributions across all samples\n",
    "##### Distribution of R-loop peaks within genomic region for enDR3-ChIP, enDR3-DRIPc, and other published approaches "
   ]
  },
  {
   "cell_type": "code",
   "execution_count": null,
   "id": "04e26cd2-1b81-4d64-bb24-91b0a604e0f2",
   "metadata": {},
   "outputs": [],
   "source": [
    "list(color_mappings.keys())"
   ]
  },
  {
   "cell_type": "code",
   "execution_count": null,
   "id": "b90efc22-b688-4f8b-88d1-1a27b501c3a8",
   "metadata": {},
   "outputs": [],
   "source": [
    "sample_order = ['Example_Set_1', 'Example_Set_2', 'Example_Set_3', 'Example_Set_4']\n",
    "\n",
    "final_df['sample'] = final_df['sample'].astype(\"category\")\n",
    "final_df['sample'] = final_df['sample'].cat.set_categories(sample_order[::-1])\n",
    "final_df = final_df.sort_values(['sample'])"
   ]
  },
  {
   "cell_type": "code",
   "execution_count": null,
   "id": "b10e153e-ccb8-451f-8725-bfc4b29b01aa",
   "metadata": {},
   "outputs": [],
   "source": [
    "fig_bar, ax = plt.subplots()\n",
    "bottom = np.zeros(len(final_df['sample'].unique()))\n",
    "\n",
    "label_data = []\n",
    "\n",
    "for num, feature in enumerate(features):\n",
    "    selection = final_df.query(\"`feature` == @feature\")   \n",
    "    \n",
    "    alpha_step = 256//len(features)\n",
    "    alpha = 255 - num*alpha_step\n",
    "    \n",
    "    ax.barh(selection['sample'], selection['frequency'], left=bottom, \n",
    "            label=feature, edgecolor=\"w\", linewidth=0.5)\n",
    "\n",
    "    bottom = bottom + np.array(selection['frequency'])\n",
    "    label_data.append(selection)\n",
    "\n",
    "ax.spines[['right', 'top']].set_visible(False)\n",
    "ax.legend(loc=\"upper right\", bbox_to_anchor=(1.4, 1), \n",
    "          frameon=False, borderaxespad=0, ncol=1)"
   ]
  },
  {
   "cell_type": "code",
   "execution_count": null,
   "id": "dd716dce-e874-4655-833c-7f6f9a0827fb",
   "metadata": {},
   "outputs": [],
   "source": [
    "if SAVE_FIGS:\n",
    "    dest_bar_file_name_stem = 'All_sets_peak_anno_barchart'\n",
    "    fig_bar.savefig(DEST_FIG_DIR_PATH.joinpath(dest_bar_file_name_stem+\".pdf\"), \n",
    "                    format='pdf', dpi=600, bbox_inches='tight')\n",
    "    fig_bar.savefig(DEST_FIG_DIR_PATH.joinpath(dest_bar_file_name_stem+\".jpg\"), \n",
    "                    format='jpg', dpi=600, bbox_inches='tight', transparent=True)"
   ]
  }
 ],
 "metadata": {
  "kernelspec": {
   "display_name": "Python 3 (ipykernel)",
   "language": "python",
   "name": "python3"
  },
  "language_info": {
   "codemirror_mode": {
    "name": "ipython",
    "version": 3
   },
   "file_extension": ".py",
   "mimetype": "text/x-python",
   "name": "python",
   "nbconvert_exporter": "python",
   "pygments_lexer": "ipython3",
   "version": "3.8.0"
  }
 },
 "nbformat": 4,
 "nbformat_minor": 5
}
