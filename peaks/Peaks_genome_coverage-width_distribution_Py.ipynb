{
 "cells": [
  {
   "cell_type": "markdown",
   "id": "05f157ba-a2f7-481a-82ed-a70f41f643f0",
   "metadata": {},
   "source": [
    "### Peaks genome coverage and peaks width distribution\n",
    "##### Code snipppets for generating and visualisation of peaks genome coverage and peaks width distribution"
   ]
  },
  {
   "cell_type": "code",
   "execution_count": null,
   "id": "f168b197-f780-4e2f-b51c-67cbf0e852fa",
   "metadata": {},
   "outputs": [],
   "source": [
    "from pathlib import Path\n",
    "\n",
    "import numpy as np\n",
    "\n",
    "import matplotlib.pyplot as plt\n",
    "import pandas as pd\n",
    "\n",
    "import matplotlib as mpl\n",
    "import matplotlib.ticker as mticker\n",
    "import seaborn as sns\n",
    "\n",
    "# mpl.use('Agg')\n",
    "\n",
    "mpl.rcParams['font.sans-serif'] = ['Arial']\n",
    "mpl.rcParams['font.family'] = 'sans-serif'\n",
    "\n",
    "# Make SVG text as font not as curves\n",
    "mpl.rcParams['svg.fonttype'] = 'none'"
   ]
  },
  {
   "cell_type": "markdown",
   "id": "7424fe98-0935-4b6d-a134-44216498e380",
   "metadata": {},
   "source": [
    "#### Peaks summed length and genome coverage from peak files"
   ]
  },
  {
   "cell_type": "code",
   "execution_count": null,
   "id": "cb279183-c6a5-43ce-9fff-ab1ef5d080fd",
   "metadata": {},
   "outputs": [],
   "source": [
    "# The list of directories containing .narrowPeak/.broadPeak files\n",
    "SRC_DIR_LIST = [\n",
    "    r\"/path/to/peaks/example_set_1\",\n",
    "    r\"/path/to/peaks/example_set_2\",\n",
    "    r\"/path/to/peaks/example_set_3\",\n",
    "    r\"/path/to/peaks/example_set_4\",\n",
    "]"
   ]
  },
  {
   "cell_type": "code",
   "execution_count": null,
   "id": "dcb34d3b-333e-49c8-89ce-6bd45cdc7db5",
   "metadata": {},
   "outputs": [],
   "source": [
    "DEST_DIR_PATH = Path(r\"/path/to/peaks/analysis\")"
   ]
  },
  {
   "cell_type": "code",
   "execution_count": null,
   "id": "99ae1d90-e63d-4993-8b7f-a894109631b7",
   "metadata": {},
   "outputs": [],
   "source": [
    "def get_peaks_width_sum(data: pd.DataFrame) -> int:\n",
    "    peak_widths = data.iloc[:, 2] - data.iloc[:, 1]\n",
    "    return peak_widths.sum()\n",
    "\n",
    "def get_peaks_mean_width(data: pd.DataFrame) -> float:\n",
    "    peak_widths = data.iloc[:, 2] - data.iloc[:, 1]\n",
    "    return peak_widths.mean()\n",
    "\n",
    "# Female (we waroking with datasets from HeLa/HEK293 cells)\n",
    "HUMAN_GENOME_SIZE = 3_054_815_472\n",
    "\n",
    "def get_peaks_genome_coverage(peaks_width_sum: int, genome_size: int) -> int:\n",
    "    return (pw_sum/genome_size)*100\n",
    "\n",
    "def get_peaks_count(data: pd.DataFrame) -> int:\n",
    "    return len(data)"
   ]
  },
  {
   "cell_type": "code",
   "execution_count": null,
   "id": "a6c2fbc7-2ca3-4cf1-9a9b-f9a267ad501f",
   "metadata": {},
   "outputs": [],
   "source": [
    "data_dict = {}\n",
    "cnt = 0\n",
    "for dir_path in SRC_DIR_LIST:\n",
    "    for file_name in (\n",
    "        p for p in Path(dir_path).glob(\"**/*\") if p.suffix in {\".narrowPeak\", \".broadPeak\"}\n",
    "    ):\n",
    "        tmp_dict = {}\n",
    "        # print(file_name)\n",
    "        peaks_data = pd.read_csv(file_name, sep='\\t', decimal='.', header=0)\n",
    "        name_parts = file_name.name.split('_')\n",
    "        sample_name = name_parts[0] + \" \" + name_parts[1]\n",
    "        \n",
    "        p_count = get_peaks_count(peaks_data)\n",
    "        p_mean_width = get_peaks_mean_width(peaks_data)\n",
    "        pw_sum = get_peaks_width_sum(peaks_data)\n",
    "        pg_coverage = get_peaks_genome_coverage(pw_sum, HUMAN_GENOME_SIZE)\n",
    "        \n",
    "        tmp_dict = {\n",
    "            \"sample_name\": sample_name,\n",
    "            \"peak_count\": p_count,\n",
    "            \"peak_mean_width\": p_mean_width,\n",
    "            \"peaks_width_sum\": pw_sum,\n",
    "            \"peaks_genome_coverage\": pg_coverage\n",
    "        }\n",
    "        \n",
    "        data_dict[cnt] = tmp_dict\n",
    "        del tmp_dict\n",
    "        cnt += 1\n",
    "        print(f\"{sample_name} - {p_count} - {round(p_mean_width, 2)} - {pw_sum} - {round(pg_coverage, 2)}%\")"
   ]
  },
  {
   "cell_type": "code",
   "execution_count": null,
   "id": "b44fc45c-31d6-4b6b-8a1e-e226c883b020",
   "metadata": {},
   "outputs": [],
   "source": [
    "peak_data = pd.DataFrame.from_dict(data_dict, orient='index')"
   ]
  },
  {
   "cell_type": "code",
   "execution_count": null,
   "id": "fa28e71d-ee45-45b8-826a-f44d66e1245d",
   "metadata": {},
   "outputs": [],
   "source": [
    "peak_data"
   ]
  },
  {
   "cell_type": "markdown",
   "id": "7c28e667-b845-40aa-b66b-6b459963b2ee",
   "metadata": {},
   "source": [
    "Save the data to an Excel file so we do need to re-do the summary every time we tweak plots"
   ]
  },
  {
   "cell_type": "code",
   "execution_count": null,
   "id": "e39507b3-ae38-4fa2-9145-f97a795aeec9",
   "metadata": {},
   "outputs": [],
   "source": [
    "result_file_name = \"Peak_width_summary.xlsx\"\n",
    "peak_data.to_excel(DEST_DIR_PATH/result_file_name, index=False)"
   ]
  },
  {
   "cell_type": "code",
   "execution_count": null,
   "id": "16ef9c83-4479-451a-9fdc-50c24accfd1c",
   "metadata": {},
   "outputs": [],
   "source": [
    "DEST_FIGS_DIR_PATH = Path(r\"/path/to/figures/peaks_genome_coverage/\")"
   ]
  },
  {
   "cell_type": "code",
   "execution_count": null,
   "id": "1f33bcf7-62af-4ad5-b620-6971e0993461",
   "metadata": {},
   "outputs": [],
   "source": [
    "sns.set(rc={'figure.figsize': (6, 3.5)})\n",
    "sns.set_style(\"ticks\")\n",
    "bp = sns.barplot(data=peak_data, x=\"peaks_genome_coverage\", \n",
    "            y=\"sample_name\", orient=\"h\", palette=color_mappings)\n",
    "bp.set_xlabel('Peaks genome goverage [%]')\n",
    "bp.get_figure().tight_layout()"
   ]
  },
  {
   "cell_type": "code",
   "execution_count": null,
   "id": "330f4172-2273-4cd4-9168-f53a6a4d094a",
   "metadata": {},
   "outputs": [],
   "source": [
    "plot_file_name = 'Peak_coverage_all'\n",
    "bp.get_figure().savefig(DEST_FIGS_DIR_PATH.joinpath(plot_file_name+'.pdf'), \n",
    "                              format='pdf', dpi=600)\n",
    "bp.get_figure().savefig(DEST_FIGS_DIR_PATH.joinpath(plot_file_name+'.jpg'), \n",
    "                              format='jpg', dpi=600, transparent=True)"
   ]
  },
  {
   "cell_type": "markdown",
   "id": "a8c57dcf-2a1d-482c-88b1-2f62df59f85d",
   "metadata": {},
   "source": [
    "#### Peaks width distribution\n",
    "The GC content files generated with `bedtools nuc` were used again.\n",
    "These files include also information about the length of each peak."
   ]
  },
  {
   "cell_type": "code",
   "execution_count": null,
   "id": "405aaf0e-898a-41be-92f8-86e16ff829de",
   "metadata": {},
   "outputs": [],
   "source": [
    "# Source directory where all the files generated by `bedtools nuc` are located\n",
    "SRC_DIR_PATH = Path(r\"/path/to/gc_content\")\n",
    "\n",
    "DEST_DIR_PATH = Path(r\"/path/to/figures/peak_width_distribution\")"
   ]
  },
  {
   "cell_type": "code",
   "execution_count": null,
   "id": "9b31ca43-7b23-4841-a2be-dad227fd5beb",
   "metadata": {},
   "outputs": [],
   "source": [
    "final_df = pd.DataFrame(columns=['peak_width', 'sample'])\n",
    "\n",
    "for file_path in SRC_DIR_PATH.glob(\"*.txt\"):\n",
    "    # print(file_path)\n",
    "    name_parts = file_path.name.split('_')\n",
    "    sample_name = name_parts[0] + \" \" + name_parts[1]\n",
    "    print(sample_name)\n",
    "    \n",
    "    tmp_peaks_data = pd.read_csv(SRC_DIR_PATH.joinpath(file_path), sep='\\t', decimal='.', header=0)\n",
    "    \n",
    "    # Find an index of a column containing sequence length\n",
    "    gc_col_idx = [i for i, element in enumerate(list(tmp_peaks_data.columns)) if element.endswith('_seq_len')][0]\n",
    "    \n",
    "    tmp_df = pd.DataFrame(columns=['peak_width', 'sample'])\n",
    "    tmp_df['peak_width'] = tmp_peaks_data.iloc[:, gc_col_idx]\n",
    "    tmp_df['sample'] = sample_name\n",
    "    \n",
    "    final_df = pd.concat([final_df, tmp_df], axis=0, ignore_index=True)\n",
    " \n",
    "    del tmp_df, tmp_peaks_data"
   ]
  },
  {
   "cell_type": "code",
   "execution_count": null,
   "id": "a5350fd6-da81-4924-b434-74ae6cbedf81",
   "metadata": {},
   "outputs": [],
   "source": [
    "final_df['sample'].unique()"
   ]
  },
  {
   "cell_type": "code",
   "execution_count": null,
   "id": "3cbf7d38-7573-424e-a242-d1ff0ed1b6ea",
   "metadata": {},
   "outputs": [],
   "source": [
    "data_to_plot = final_df\n",
    "\n",
    "# Or select a subset to plot\n",
    "# samples_to_plot = []\n",
    "# data_to_plot = final_df.loc[final_df['sample'].isin(samples_to_plot)]"
   ]
  },
  {
   "cell_type": "code",
   "execution_count": null,
   "id": "a18e3a3f-a54c-4ecb-8d51-1889e2c0f23f",
   "metadata": {},
   "outputs": [],
   "source": [
    "# The file names must match the keys in the mapping dictionary\n",
    "color_mappings = {\n",
    "    'Example_Set_1': '#3C5488',\n",
    "    'Example_Set_2': '#00A087',\n",
    "    'Example_Set_3': '#E64B35',\n",
    "    'Example_Set_4': '#8491B4',\n",
    "}\n",
    "\n",
    "colors = -1"
   ]
  },
  {
   "cell_type": "code",
   "execution_count": null,
   "id": "213bb1f0-43fe-441b-ac41-0783ce46642c",
   "metadata": {},
   "outputs": [],
   "source": [
    "sns.set(rc={'figure.figsize': (5, 3)})\n",
    "sns.set_style(\"ticks\")\n",
    "kde_plot = sns.kdeplot(data=data_to_plot, x=data_to_plot['peak_width'], hue='sample', \n",
    "                       palette=color_mappings, hue_order=samples_to_plot,\n",
    "                       common_norm=False, fill=False, log_scale=True)\n",
    "\n",
    "locmin = mticker.LogLocator(base=10, subs=np.arange(0.1, 1, 0.1), numticks=10)\n",
    "kde_plot.xaxis.set_minor_locator(locmin)\n",
    "\n",
    "kde_plot.set_xlabel('log$_{10}$(peak witdh)')\n",
    "sns.move_legend(kde_plot, \"upper left\", bbox_to_anchor=(1, 1), title=\"Data set\")\n",
    "\n",
    "kde_plot.get_figure().tight_layout()"
   ]
  },
  {
   "cell_type": "code",
   "execution_count": null,
   "id": "9348fc6c-e0ab-4b1a-a355-9add99c8376e",
   "metadata": {},
   "outputs": [],
   "source": [
    "plot_file_name = 'Peak_width_dist_lines'\n",
    "kde_plot.get_figure().savefig(DEST_DIR_PATH.joinpath(plot_file_name+'.pdf'), \n",
    "                              format='pdf', dpi=600, transparent=True)\n",
    "kde_plot.get_figure().savefig(DEST_DIR_PATH.joinpath(plot_file_name+'.jpg'), \n",
    "                              format='jpg', dpi=600, transparent=True)\n",
    "plt.close()"
   ]
  }
 ],
 "metadata": {
  "kernelspec": {
   "display_name": "Python 3 (ipykernel)",
   "language": "python",
   "name": "python3"
  },
  "language_info": {
   "codemirror_mode": {
    "name": "ipython",
    "version": 3
   },
   "file_extension": ".py",
   "mimetype": "text/x-python",
   "name": "python",
   "nbconvert_exporter": "python",
   "pygments_lexer": "ipython3",
   "version": "3.8.0"
  }
 },
 "nbformat": 4,
 "nbformat_minor": 5
}
