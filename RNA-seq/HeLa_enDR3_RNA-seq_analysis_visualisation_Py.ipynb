{
 "cells": [
  {
   "cell_type": "markdown",
   "metadata": {},
   "source": [
    "## RNA-seq data analysis visualisation - HeLa +/- enDR3\n",
    "\n",
    "Visualisation of the results obtained from DESeq2 analysis\n"
   ]
  },
  {
   "cell_type": "markdown",
   "metadata": {},
   "source": [
    "Imports"
   ]
  },
  {
   "cell_type": "code",
   "execution_count": null,
   "metadata": {},
   "outputs": [],
   "source": [
    "from pathlib import Path\n",
    "import pandas as pd\n",
    "import re\n",
    "\n",
    "import matplotlib as mpl\n",
    "import matplotlib.pyplot as plt\n",
    "import math\n",
    "import numpy as np\n",
    "import seaborn as sns\n",
    "from scipy.stats import pearsonr, ttest_ind, shapiro, anderson\n",
    "\n",
    "mpl.rcParams['font.sans-serif'] = ['Arial']\n",
    "mpl.rcParams['font.family'] = 'sans-serif'\n",
    "\n",
    "# Make SVG text as font not as curves\n",
    "mpl.rcParams['svg.fonttype'] = 'none'\n",
    "\n",
    "%matplotlib inline"
   ]
  },
  {
   "cell_type": "markdown",
   "metadata": {},
   "source": [
    "Constants"
   ]
  },
  {
   "cell_type": "code",
   "execution_count": null,
   "metadata": {},
   "outputs": [],
   "source": [
    "SAVE_FIGS = False"
   ]
  },
  {
   "cell_type": "markdown",
   "metadata": {},
   "source": [
    "Paths"
   ]
  },
  {
   "cell_type": "code",
   "execution_count": null,
   "metadata": {},
   "outputs": [],
   "source": [
    "data_dir_path = Path(r'path\\to\\input\\data')\n",
    "save_dir_path = Path(r'path\\to\\output\\data')"
   ]
  },
  {
   "cell_type": "markdown",
   "metadata": {},
   "source": [
    "Load in RNA-seq results from csv file - data generated using DESeq2"
   ]
  },
  {
   "cell_type": "code",
   "execution_count": null,
   "metadata": {},
   "outputs": [],
   "source": [
    "de_results = pd.read_csv(data_dir_path/'HeLa_enDR3_DE_genes.csv', sep=',')"
   ]
  },
  {
   "cell_type": "code",
   "execution_count": null,
   "metadata": {
    "scrolled": true
   },
   "outputs": [],
   "source": [
    "de_results.head(5)"
   ]
  },
  {
   "cell_type": "markdown",
   "metadata": {},
   "source": [
    "Generate volcano plots"
   ]
  },
  {
   "cell_type": "code",
   "execution_count": null,
   "metadata": {},
   "outputs": [],
   "source": [
    "x_axis = de_results['log2FoldChange']\n",
    "\n",
    "# Log2 trasform P-value\n",
    "y_axis = [-math.log10(x) for x in de_results['padj']]\n",
    "\n",
    "de_data_colors = []\n",
    "\n",
    "for adj_pvalue in de_results['padj']:\n",
    "    if adj_pvalue < 0.05:\n",
    "        de_data_colors.append('red')\n",
    "    else:\n",
    "        de_data_colors.append('grey')"
   ]
  },
  {
   "cell_type": "code",
   "execution_count": null,
   "metadata": {},
   "outputs": [],
   "source": [
    "vp_fig = plt.figure(figsize=(4.25, 4))\n",
    "\n",
    "plt.scatter(x_axis, y_axis, c=de_data_colors, s=8)\n",
    "plt.axvline(x=-1, color='green', linewidth=0.5, linestyle='--')\n",
    "plt.axvline(x=1, color='green', linewidth=0.5, linestyle='--')\n",
    "plt.axhline(y=-math.log10(0.05), color='r', linewidth=0.5, linestyle='--')\n",
    "plt.xlabel('log2(fold change)', fontsize=12)\n",
    "plt.ylabel('-log10(adj p-value)', fontsize=12)\n",
    "_ = plt.title('HeLa +/- enDR3', fontsize=12)"
   ]
  },
  {
   "cell_type": "code",
   "execution_count": null,
   "metadata": {},
   "outputs": [],
   "source": [
    "if SAVE_FIGS:\n",
    "    vp_fig.savefig(save_dir_path/'Vulcano_plot_all_genes.png', dpi=600, format='png', bbox_inches='tight')\n",
    "    vp_fig.savefig(save_dir_path/'Vulcano_all_genes.pdf', dpi=600, format='pdf', bbox_inches='tight')"
   ]
  },
  {
   "cell_type": "markdown",
   "metadata": {},
   "source": [
    "### Generate scatter plots and estimate correlation between samples"
   ]
  },
  {
   "cell_type": "markdown",
   "metadata": {},
   "source": [
    "Log10 transform data"
   ]
  },
  {
   "cell_type": "code",
   "execution_count": null,
   "metadata": {},
   "outputs": [],
   "source": [
    "enDR3_rep_1 = np.log10(de_results['enDR3_1']+1)\n",
    "enDR3_rep_2 = np.log10(de_results['enDR3_2']+1)\n",
    "enDR3_rep_3 = np.log10(de_results['enDR3_3']+1)"
   ]
  },
  {
   "cell_type": "code",
   "execution_count": null,
   "metadata": {},
   "outputs": [],
   "source": [
    "HeLa_rep_1 = np.log10(de_results['Hela_1']+1)\n",
    "HeLa_rep_2 = np.log10(de_results['Hela_2']+1)\n",
    "HeLa_rep_3 = np.log10(de_results['Hela_3']+1)"
   ]
  },
  {
   "cell_type": "markdown",
   "metadata": {},
   "source": [
    "#### Calculate Pearson correaltions"
   ]
  },
  {
   "cell_type": "markdown",
   "metadata": {},
   "source": [
    "HeLa enDR3 samples"
   ]
  },
  {
   "cell_type": "code",
   "execution_count": null,
   "metadata": {},
   "outputs": [],
   "source": [
    "enDR3_rep_1_vs_2_corr, enDR3_rep_1_vs_2_pvalue = pearsonr(enDR3_rep_1, enDR3_rep_2)\n",
    "enDR3_rep_1_vs_3_corr, enDR3_rep_1_vs_3_pvalue = pearsonr(enDR3_rep_1, enDR3_rep_3)\n",
    "enDR3_rep_2_vs_3_corr, enDR3_rep_2_vs_3_pvalue = pearsonr(enDR3_rep_2, enDR3_rep_3)\n",
    "\n",
    "print(enDR3_rep_1_vs_2_corr)\n",
    "print(enDR3_rep_1_vs_3_corr)\n",
    "print(enDR3_rep_2_vs_3_corr)"
   ]
  },
  {
   "cell_type": "code",
   "execution_count": null,
   "metadata": {},
   "outputs": [],
   "source": [
    "m1, b1 = np.polyfit(np.array(enDR3_rep_1), np.array(enDR3_rep_2), 1)\n",
    "m2, b2 = np.polyfit(np.array(enDR3_rep_1), np.array(enDR3_rep_3), 1)\n",
    "m3, b3 = np.polyfit(np.array(enDR3_rep_2), np.array(enDR3_rep_3), 1)"
   ]
  },
  {
   "cell_type": "code",
   "execution_count": null,
   "metadata": {
    "scrolled": false
   },
   "outputs": [],
   "source": [
    "fig1 = plt.figure(figsize=(7, 7))\n",
    "fig1.suptitle('HeLa enDR3 replicates', fontsize=12)\n",
    "\n",
    "fig1.subplots_adjust(wspace=.2)\n",
    "ax1 = fig1.add_subplot(2, 2, 1)\n",
    "ax1.scatter(enDR3_rep_1, enDR3_rep_2, s=1)\n",
    "ax1.plot([0, ax1.get_xlim()[1]], [0, ax1.get_xlim()[1]], ls=\"--\", color='black', linewidth=1)\n",
    "ax1.plot(enDR3_rep_1, m1*np.array(enDR3_rep_1) + b1, color='red', linewidth=1)\n",
    "ax1.set_ylabel('Replicate 2\\nlog$_{10}$(Norm. counts)', fontsize=10)\n",
    "ax1.text(0, 4.2, f'r = {enDR3_rep_1_vs_2_corr:.5f}\\np-value = {enDR3_rep_1_vs_2_pvalue:.2E}', fontsize=9)\n",
    "\n",
    "ax2 = fig1.add_subplot(2, 2, 3)\n",
    "ax2.scatter(enDR3_rep_1, enDR3_rep_3, s=1)\n",
    "ax2.plot([0, ax2.get_xlim()[1]], [0, ax2.get_xlim()[1]], ls=\"--\", color='black', linewidth=1)\n",
    "ax2.plot(enDR3_rep_1, m2*np.array(enDR3_rep_1) + b2, color='red', linewidth=1)\n",
    "ax2.set_ylabel('Replicate 3\\nlog$_{10}$(Norm. counts)', fontsize=10)\n",
    "ax2.set_xlabel('Replicate 1\\nlog$_{10}$(Norm. counts)', fontsize=10)\n",
    "ax2.text(0, 4.2, f'r = {enDR3_rep_1_vs_3_corr:.5f}\\np-value = {enDR3_rep_1_vs_3_pvalue:.2E}', fontsize=9)\n",
    "\n",
    "ax3 = fig1.add_subplot(2, 2, 4)\n",
    "ax3.scatter(enDR3_rep_2, enDR3_rep_3, s=1)\n",
    "ax3.plot([0, ax3.get_xlim()[1]], [0, ax3.get_xlim()[1]], ls=\"--\", color='black', linewidth=1)\n",
    "ax3.plot(enDR3_rep_2, m3*np.array(enDR3_rep_2) + b3, color='red', linewidth=1)\n",
    "ax3.set_xlabel('Replicate 2\\nlog$_{10}$(Norm. counts)', fontsize=10)\n",
    "_ = ax3.text(0, 4.2, f'r = {enDR3_rep_2_vs_3_corr:.5f}\\np-value = {enDR3_rep_2_vs_3_pvalue:.2E}', fontsize=9)\n",
    "fig1.tight_layout()"
   ]
  },
  {
   "cell_type": "code",
   "execution_count": null,
   "metadata": {},
   "outputs": [],
   "source": [
    "if SAVE_FIGS:\n",
    "    fig1.savefig(save_dir_path/'HeLa_enDR3_corr_scatters.jpg', dpi=600, format='jpg')\n",
    "    fig1.savefig(save_dir_path/'HeLa_enDR3_corr_scatters.pdf', dpi=600, format='pdf')"
   ]
  },
  {
   "cell_type": "markdown",
   "metadata": {},
   "source": [
    "HeLa \"wild-type\"samples"
   ]
  },
  {
   "cell_type": "code",
   "execution_count": null,
   "metadata": {},
   "outputs": [],
   "source": [
    "HeLa_rep_1_vs_2_corr, HeLa_rep_1_vs_2_pvalue = pearsonr(HeLa_rep_1, HeLa_rep_2)\n",
    "HeLa_rep_1_vs_3_corr, HeLa_rep_1_vs_3_pvalue = pearsonr(HeLa_rep_1, HeLa_rep_3)\n",
    "HeLa_rep_2_vs_3_corr, HeLa_rep_2_vs_3_pvalue = pearsonr(HeLa_rep_2, HeLa_rep_3)\n",
    "\n",
    "print(HeLa_rep_1_vs_2_corr)\n",
    "print(HeLa_rep_1_vs_3_corr)\n",
    "print(HeLa_rep_2_vs_3_corr)"
   ]
  },
  {
   "cell_type": "code",
   "execution_count": null,
   "metadata": {},
   "outputs": [],
   "source": [
    "WT_m1, WT_b1 = np.polyfit(np.array(HeLa_rep_1), np.array(HeLa_rep_2), 1)\n",
    "WT_m2, WT_b2 = np.polyfit(np.array(HeLa_rep_1), np.array(HeLa_rep_3), 1)\n",
    "WT_m3, WT_b3 = np.polyfit(np.array(HeLa_rep_2), np.array(HeLa_rep_3), 1)"
   ]
  },
  {
   "cell_type": "code",
   "execution_count": null,
   "metadata": {},
   "outputs": [],
   "source": [
    "fig2 = plt.figure(figsize=(7, 7))\n",
    "fig2.suptitle('Wild-type HeLa replicates', fontsize=12)\n",
    "\n",
    "fig2.subplots_adjust(wspace=.2)\n",
    "\n",
    "ax1 = fig2.add_subplot(2, 2, 1)\n",
    "ax1.scatter(HeLa_rep_1, HeLa_rep_2, s=1)\n",
    "ax1.plot([0, ax1.get_xlim()[1]], [0, ax1.get_xlim()[1]], ls=\"--\", color='black', linewidth=1)\n",
    "ax1.plot(HeLa_rep_1, WT_m1*np.array(HeLa_rep_1) + WT_b1, color='red', linewidth=1)\n",
    "ax1.set_ylabel('Replicate 2\\nlog$_{10}$(Norm. counts)', fontsize=12)\n",
    "ax1.text(0, 4.2, f'r = {HeLa_rep_1_vs_2_corr:.5f}\\np-value = {HeLa_rep_1_vs_2_pvalue:.2E}', fontsize=9)\n",
    "\n",
    "ax2 = fig2.add_subplot(2, 2, 3)\n",
    "ax2.scatter(HeLa_rep_1, HeLa_rep_3, s=1)\n",
    "ax2.plot([0, ax2.get_xlim()[1]], [0, ax2.get_xlim()[1]], ls=\"--\", color='black', linewidth=1)\n",
    "ax2.plot(HeLa_rep_1, WT_m2*np.array(HeLa_rep_1) + WT_b2, color='red', linewidth=1)\n",
    "ax2.set_ylabel('Replicate 3\\nlog$_{10}$(Norm. counts)', fontsize=12)\n",
    "ax2.set_xlabel('Replicate 1\\nlog$_{10}$(Norm. counts)', fontsize=12)\n",
    "ax2.text(0, 4.2, f'r = {HeLa_rep_1_vs_3_corr:.5f}\\np-value = {HeLa_rep_1_vs_3_pvalue:.2E}', fontsize=9)\n",
    "\n",
    "ax3 = fig2.add_subplot(2, 2, 4)\n",
    "ax3.scatter(HeLa_rep_2, HeLa_rep_3, s=1)\n",
    "ax3.plot([0, ax3.get_xlim()[1]], [0, ax3.get_xlim()[1]], ls=\"--\", color='black', linewidth=1)\n",
    "ax3.plot(HeLa_rep_2, WT_m3*np.array(HeLa_rep_2) + WT_b3, color='red', linewidth=1)\n",
    "ax3.set_xlabel('Replicate 2\\nlog$_{10}$(Norm. counts)', fontsize=12)\n",
    "_ = ax3.text(0, 4.2, f'r = {HeLa_rep_2_vs_3_corr:.5f}\\np-value = {HeLa_rep_2_vs_3_pvalue:.2E}', fontsize=9)\n",
    "fig2.tight_layout()"
   ]
  },
  {
   "cell_type": "code",
   "execution_count": null,
   "metadata": {},
   "outputs": [],
   "source": [
    "if SAVE_FIGS:\n",
    "    fig2.savefig(save_dir_path/'HeLa_WT_corr_scatters.jpg', dpi=600, format='jpg')\n",
    "    fig2.savefig(save_dir_path/'HeLa_WT_corr_scatters.pdf', dpi=600, format='pdf')"
   ]
  },
  {
   "cell_type": "markdown",
   "metadata": {},
   "source": [
    "### Generate MA plots"
   ]
  },
  {
   "cell_type": "code",
   "execution_count": null,
   "metadata": {},
   "outputs": [],
   "source": [
    "# Log10 trasform baseMean expression\n",
    "ma_x_axis_all = [math.log10(x) for x in de_results['baseMean']]\n",
    "\n",
    "# Fold change is already log2 transformed\n",
    "ma_y_axis_all = de_results['log2FoldChange']\n",
    "\n",
    "ma_all_de_data_colors = np.where(de_results['padj'] < 0.05, 'red', 'grey')"
   ]
  },
  {
   "cell_type": "code",
   "execution_count": null,
   "metadata": {},
   "outputs": [],
   "source": [
    "ma_fig = plt.figure(figsize=(4.25,4))\n",
    "\n",
    "ax2 = ma_fig.add_subplot(1, 1, 1)\n",
    "ax2.scatter(ma_x_axis_all, ma_y_axis_all, c=ma_all_de_data_colors, s=6)\n",
    "ax2.axhline(y=0, color='r', linewidth=1)\n",
    "ax2.axhline(y=math.log2(2), color='green', linestyle=':', linewidth=1)\n",
    "ax2.axhline(y=-math.log2(2), color='green', linestyle=':', linewidth=1)\n",
    "ax2.axvline(x=math.log10(10), color='blue', linestyle=':', linewidth=1)\n",
    "ax2.set_xlabel('log10(Mean expression)', fontsize=12)\n",
    "ax2.set_ylabel('log2(Fold change)', fontsize=12)\n",
    "_ = ax2.set_title('HeLa +/- enDR3', fontsize=12)"
   ]
  },
  {
   "cell_type": "code",
   "execution_count": null,
   "metadata": {},
   "outputs": [],
   "source": [
    "if SAVE_FIGS:\n",
    "    ma_fig.savefig(save_dir_path/'MA_plot_all_genes.png', dpi=600, format='png', bbox_inches='tight')\n",
    "    ma_fig.savefig(save_dir_path/'MA_plot_all_genes.pdf', dpi=600, format='pdf', bbox_inches='tight')"
   ]
  }
 ],
 "metadata": {
  "finalized": {
   "timestamp": 1652114415109,
   "trusted": false
  },
  "kernelspec": {
   "display_name": "Python 3",
   "language": "python",
   "name": "python3"
  },
  "language_info": {
   "codemirror_mode": {
    "name": "ipython",
    "version": 3
   },
   "file_extension": ".py",
   "mimetype": "text/x-python",
   "name": "python",
   "nbconvert_exporter": "python",
   "pygments_lexer": "ipython3",
   "version": "3.7.3"
  }
 },
 "nbformat": 4,
 "nbformat_minor": 2
}
