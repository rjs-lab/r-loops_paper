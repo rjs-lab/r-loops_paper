{
 "cells": [
  {
   "cell_type": "markdown",
   "metadata": {},
   "source": [
    "### HeLa enDR3 transcriptome analysis\n",
    "\n",
    "RNA-seq data analysis is performed using DESeq2 for differential expression analysis.\n",
    "\n"
   ]
  },
  {
   "cell_type": "code",
   "execution_count": null,
   "metadata": {
    "scrolled": false
   },
   "outputs": [],
   "source": [
    "library('DESeq2')\n",
    "library('ggplot2')\n",
    "library('biomaRt')\n",
    "library('Cairo')\n",
    "library('RUVSeq')"
   ]
  },
  {
   "cell_type": "markdown",
   "metadata": {},
   "source": [
    "Read in the counts data file (featureCounts output)"
   ]
  },
  {
   "cell_type": "code",
   "execution_count": null,
   "metadata": {
    "scrolled": false
   },
   "outputs": [],
   "source": [
    "counts_file <- file.choose()\n",
    "counts_df <- read.csv(counts_file,sep=\"\\t\", header=TRUE, skip = 1, row.names = 1)\n",
    "head(counts_df)"
   ]
  },
  {
   "cell_type": "markdown",
   "metadata": {},
   "source": [
    "<BR>\n",
    "Remove unnecessary columns 1-5 (Chr, Start, End, Strand, Length)(row.names are not counted as a column)"
   ]
  },
  {
   "cell_type": "code",
   "execution_count": null,
   "metadata": {},
   "outputs": [],
   "source": [
    "counts_df <- counts_df[,-c(1:5)]"
   ]
  },
  {
   "cell_type": "code",
   "execution_count": null,
   "metadata": {},
   "outputs": [],
   "source": [
    "head(counts_df)"
   ]
  },
  {
   "cell_type": "markdown",
   "metadata": {},
   "source": [
    "Rename columns"
   ]
  },
  {
   "cell_type": "code",
   "execution_count": null,
   "metadata": {},
   "outputs": [],
   "source": [
    "col_names <- c(\"enDR3_1\",\"enDR3_2\",\"enDR3_3\",\"Hela_1\", \"Hela_2\",\"Hela_3\")\n",
    "\n",
    "colnames(counts_df) <- col_names"
   ]
  },
  {
   "cell_type": "markdown",
   "metadata": {},
   "source": [
    "Get data summary"
   ]
  },
  {
   "cell_type": "code",
   "execution_count": null,
   "metadata": {},
   "outputs": [],
   "source": [
    "nrow(counts_df)\n",
    "summary(counts_df)\n",
    "head(counts_df)"
   ]
  },
  {
   "cell_type": "markdown",
   "metadata": {},
   "source": [
    "<BR>\n",
    "Filter out non-expressed genes. Accept only genes that have more than 1 read in at least 4 samples."
   ]
  },
  {
   "cell_type": "code",
   "execution_count": null,
   "metadata": {},
   "outputs": [],
   "source": [
    "filter <- apply(counts_df, 1, function(x) length(x[x>0])>=4)\n",
    "filtered_counts_df <- counts_df[filter,]"
   ]
  },
  {
   "cell_type": "code",
   "execution_count": null,
   "metadata": {},
   "outputs": [],
   "source": [
    "sprintf('Number of genes meeting the criteria: %d', nrow(filtered_counts_df))\n",
    "head(filtered_counts_df)\n",
    "tail(filtered_counts_df)"
   ]
  },
  {
   "cell_type": "markdown",
   "metadata": {},
   "source": [
    "Defining experiment design"
   ]
  },
  {
   "cell_type": "code",
   "execution_count": null,
   "metadata": {},
   "outputs": [],
   "source": [
    "condition <- factor(c(rep(\"enDR3\", 3), rep(\"Hela\", 3)))\n",
    "\n",
    "condition\n",
    "coldata <- data.frame(row.names=colnames(filtered_counts_df), condition)"
   ]
  },
  {
   "cell_type": "markdown",
   "metadata": {},
   "source": [
    "Creating DESeq data set"
   ]
  },
  {
   "cell_type": "code",
   "execution_count": null,
   "metadata": {},
   "outputs": [],
   "source": [
    "dds_p1 <- DESeqDataSetFromMatrix(countData=filtered_counts_df, \n",
    "                                        colData=coldata, \n",
    "                                        design=~condition)\n",
    "\n",
    "dds_p1"
   ]
  },
  {
   "cell_type": "code",
   "execution_count": null,
   "metadata": {},
   "outputs": [],
   "source": [
    "dds_p1 <- DESeq(dds_p1)"
   ]
  },
  {
   "cell_type": "markdown",
   "metadata": {},
   "source": [
    "Get differential expression results"
   ]
  },
  {
   "cell_type": "code",
   "execution_count": null,
   "metadata": {},
   "outputs": [],
   "source": [
    "results_enDR3 <- results(dds_p1, contrast = c(\"condition\", \"enDR3\", \"Hela\"), alpha=0.05)\n",
    "table(results_enDR3$padj<0.05)"
   ]
  },
  {
   "cell_type": "code",
   "execution_count": null,
   "metadata": {},
   "outputs": [],
   "source": [
    "results_enDR3 <- results_enDR3[order(results_enDR3$padj), ]"
   ]
  },
  {
   "cell_type": "code",
   "execution_count": null,
   "metadata": {},
   "outputs": [],
   "source": [
    "par(mar=c(5,5,5,5), cex=1.0, cex.main=1.4, cex.axis=1.4, cex.lab=1.4)\n",
    "\n",
    "topT <- as.data.frame(results_enDR3)\n",
    "\n",
    "#Adjusted P values (FDR Q values)\n",
    "with(topT, plot(log2FoldChange, -log10(padj), pch=20, main=\"Volcano plot\", cex=1.0, xlab=bquote(~Log[2]~fold~change), ylab=bquote(~-log[10]~Q~value)))\n",
    "\n",
    "with(subset(topT, padj<=0.05 & abs(log2FoldChange)>1), points(log2FoldChange, -log10(padj), pch=20, col=\"red\", cex=0.5))"
   ]
  },
  {
   "cell_type": "markdown",
   "metadata": {},
   "source": [
    "Merge with normalized count data"
   ]
  },
  {
   "cell_type": "code",
   "execution_count": null,
   "metadata": {},
   "outputs": [],
   "source": [
    "full_results_enDR3 <- merge(as.data.frame(results_enDR3),\n",
    "                           as.data.frame(counts(dds_p1, normalized=TRUE)),\n",
    "                           by=\"row.names\", sort=FALSE)\n",
    "\n",
    "names(full_results_enDR3)[1] <- \"Gene\"\n",
    "head(full_results_enDR3, 20)"
   ]
  },
  {
   "cell_type": "markdown",
   "metadata": {},
   "source": [
    "Write results to a file"
   ]
  },
  {
   "cell_type": "code",
   "execution_count": null,
   "metadata": {},
   "outputs": [],
   "source": [
    "write.csv(full_results_enDR3, file=file.choose(), row.names=FALSE)"
   ]
  },
  {
   "cell_type": "markdown",
   "metadata": {},
   "source": [
    "Plot quality metrics plots"
   ]
  },
  {
   "cell_type": "code",
   "execution_count": null,
   "metadata": {},
   "outputs": [],
   "source": [
    "r_log_dds_p1 <- rlog(dds_p1)"
   ]
  },
  {
   "cell_type": "code",
   "execution_count": null,
   "metadata": {},
   "outputs": [],
   "source": [
    "plotPCA(r_log_dds_p1)"
   ]
  },
  {
   "cell_type": "code",
   "execution_count": null,
   "metadata": {},
   "outputs": [],
   "source": [
    "pdf(file=file.choose())\n",
    "plotPCA(r_log_dds_p1)\n",
    "dev.off()"
   ]
  },
  {
   "cell_type": "code",
   "execution_count": null,
   "metadata": {},
   "outputs": [],
   "source": [
    "plotDispEsts(dds_p1)"
   ]
  }
 ],
 "metadata": {
  "finalized": {
   "timestamp": 1574373301638,
   "trusted": true
  },
  "kernelspec": {
   "display_name": "R",
   "language": "R",
   "name": "ir"
  },
  "language_info": {
   "codemirror_mode": "r",
   "file_extension": ".r",
   "mimetype": "text/x-r-source",
   "name": "R",
   "pygments_lexer": "r",
   "version": "3.6.0"
  }
 },
 "nbformat": 4,
 "nbformat_minor": 2
}
