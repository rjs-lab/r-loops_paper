{
 "cells": [
  {
   "cell_type": "markdown",
   "id": "8aba037a-e4db-445d-b02f-17961eb72d8d",
   "metadata": {},
   "source": [
    "### Bland-Altman analysis\n",
    "\n",
    "Bland-Altman analysis was performed to test the agreement between the enDR3-DRIPc-seq and S9.6-DRIPc-seq methods."
   ]
  },
  {
   "cell_type": "markdown",
   "id": "6d45ca73-cd9b-4b00-9df8-079d31f3c93b",
   "metadata": {},
   "source": [
    "https://www.jstor.org/stable/2987937?origin=crossref\n",
    "\n",
    "https://biochemia-medica.com/en/journal/25/2/10.11613/BM.2015.015/fullArticle\n",
    "\n",
    "https://www.sciencedirect.com/science/article/pii/S2452247318302462\n",
    "\n",
    "https://www.ncbi.nlm.nih.gov/pmc/articles/PMC5800325/\n",
    "\n",
    "https://www.statology.org/bland-altman-plot/"
   ]
  },
  {
   "cell_type": "code",
   "execution_count": null,
   "id": "13fa99e8-0464-4ee0-8a47-65788a05a10e",
   "metadata": {},
   "outputs": [],
   "source": [
    "from typing import Optional\n",
    "\n",
    "from pathlib import Path\n",
    "\n",
    "import numpy as np\n",
    "import pandas as pd\n",
    "\n",
    "import matplotlib as mpl\n",
    "import matplotlib.pyplot as plt\n",
    "\n",
    "import seaborn as sns\n",
    "\n",
    "from scipy import stats"
   ]
  },
  {
   "cell_type": "code",
   "execution_count": null,
   "id": "91efefd6-9042-46c9-aa7d-353df0f41e12",
   "metadata": {},
   "outputs": [],
   "source": [
    "# Make SVG text as font not as curves\n",
    "mpl.rcParams['svg.fonttype'] = 'none'\n",
    "\n",
    "mpl.rcParams['font.sans-serif'].insert(0, 'Arial')\n",
    "mpl.rcParams['font.family'] = 'sans-serif'"
   ]
  },
  {
   "cell_type": "code",
   "execution_count": null,
   "id": "7a635f11-7b71-4985-8c02-18abfff05f93",
   "metadata": {},
   "outputs": [],
   "source": [
    "sns_axes_style = sns.axes_style().copy()"
   ]
  },
  {
   "cell_type": "code",
   "execution_count": null,
   "id": "fd91ef83-8f56-49bf-baed-bcea7a4b26f5",
   "metadata": {},
   "outputs": [],
   "source": [
    "sns_axes_style['xtick.bottom'] = True\n",
    "sns_axes_style['ytick.left'] = True"
   ]
  },
  {
   "cell_type": "code",
   "execution_count": null,
   "id": "8c93cb9f-1ff3-4364-a76c-2f5970ddea6e",
   "metadata": {},
   "outputs": [],
   "source": [
    "SRC_DIR_PATH = Path(r\"/path/to/analysis/correlations\")\n",
    "DEST_DIR_PATH = Path(r\"/path/to/analysis/figures/correlations\")"
   ]
  },
  {
   "cell_type": "code",
   "execution_count": null,
   "id": "6d479373-7dad-4f80-b35f-0c1df2a7c907",
   "metadata": {},
   "outputs": [],
   "source": [
    "# Library size-normalized read counts file. Peaks - rows. Columns - samples.\n",
    "# These are read counts over overlapping peaks.\n",
    "# One can have a file of multiple samples and replicates of each sample.\n",
    "# All of them will be globally quantile normalised.\n",
    "counts_file_name = \"Dataset-1_vs_Dataset-2_overlap_counts_norm.txt\""
   ]
  },
  {
   "cell_type": "code",
   "execution_count": null,
   "id": "ab6da18b-92de-479f-94f8-77978860038a",
   "metadata": {},
   "outputs": [],
   "source": [
    "counts_normalised = pd.read_csv(SRC_DIR_PATH.joinpath(counts_file_name), header=0, sep='\\t', decimal='.')"
   ]
  },
  {
   "cell_type": "code",
   "execution_count": null,
   "id": "42258be8-181f-4c87-8cf3-54de33527273",
   "metadata": {},
   "outputs": [],
   "source": [
    "counts_normalised.describe()"
   ]
  },
  {
   "cell_type": "markdown",
   "id": "664e447e-e7d4-4376-9045-97dd5953959e",
   "metadata": {},
   "source": [
    "#### Quantile normalisation"
   ]
  },
  {
   "cell_type": "markdown",
   "id": "8dd7b613-740d-40bd-a7f7-11ce76c3daae",
   "metadata": {},
   "source": [
    "First step is to quantile normalize the dataset."
   ]
  },
  {
   "cell_type": "code",
   "execution_count": null,
   "id": "92348b60-1e23-40e4-a451-49bb723c2795",
   "metadata": {},
   "outputs": [],
   "source": [
    "def quantile_normalize(df):\n",
    "    \"\"\"\n",
    "    input: dataframe with numerical columns\n",
    "    output: dataframe with quantile normalized values\n",
    "    \"\"\"\n",
    "    df_sorted = pd.DataFrame(np.sort(df.values,\n",
    "                                     axis=0), \n",
    "                             index=df.index, \n",
    "                             columns=df.columns)\n",
    "    df_mean = df_sorted.mean(axis=1)\n",
    "    df_mean.index = np.arange(1, len(df_mean) + 1)\n",
    "    df_qn = df.rank(method=\"min\").stack().astype(int).map(df_mean).unstack()\n",
    "    del df_sorted\n",
    "    return df_qn"
   ]
  },
  {
   "cell_type": "code",
   "execution_count": null,
   "id": "87d7fab9-6d2e-444f-98c8-affdc8253ac0",
   "metadata": {},
   "outputs": [],
   "source": [
    "counts_normalised_qn = quantile_normalize(counts_normalised.iloc[:, range(3, 9)])\n",
    "final_df = pd.concat([counts_normalised[['chr', 'start', 'end']].copy(), counts_normalised_qn], axis=1)"
   ]
  },
  {
   "cell_type": "code",
   "execution_count": null,
   "id": "c6cc5a49-1dd7-4d5e-be4b-c8d2e9358744",
   "metadata": {},
   "outputs": [],
   "source": [
    "final_df.head()"
   ]
  },
  {
   "cell_type": "code",
   "execution_count": null,
   "id": "dc6dae34-c444-4794-9cc2-c50f42ec49ce",
   "metadata": {},
   "outputs": [],
   "source": [
    "# Save the normalised data\n",
    "# Example file name\n",
    "dest_file_name = \"Dataset-1_vs_Dataset-2_overlap_counts_norm_qn.txt\"\n",
    "final_df.to_csv(SRC_DIR_PATH.joinpath(dest_file_name), sep='\\t', index=False)"
   ]
  },
  {
   "cell_type": "markdown",
   "id": "ea4fd2b3-c17b-4d79-9030-8cf1402e1410",
   "metadata": {},
   "source": [
    "#### Actual Bland-Altman analysis\n",
    "\n",
    "The code is written in a way that allows analysing multiple samples at a time.\n",
    "The replicates are also handled, but one have to take care of it tin the \n",
    "`get_mean_data()` function."
   ]
  },
  {
   "cell_type": "code",
   "execution_count": null,
   "id": "04fcacff-f391-42bd-89bc-ed191b82e5d9",
   "metadata": {},
   "outputs": [],
   "source": [
    "def get_mean_data(data_df: pd.DataFrame) -> pd.DataFrame:\n",
    "    \"\"\"\n",
    "    Get the mean of the replicate samples per data row (peak).\n",
    "    \n",
    "    This is very specific to data format. Adjust accordingly or create a new function.\n",
    "    It would be ideal to abstract this away and use a sort of template (dictionary)\n",
    "    to combine selected columns. Anyways, there is no plan to dramatically change\n",
    "    samples.\n",
    "    \n",
    "    The return datafram should contain 'chr', 'start', and 'end' columns. The rest of the columns are\n",
    "    considered to be mean data of a dataset.\n",
    "    \n",
    "    In the example below, the resulting data frame would have the following columns:\n",
    "    'chr', 'start', 'end', 'Dataset_1', 'Dataset_2'.\n",
    "    \"\"\"\n",
    "    tmp_mean_data = data_df[['chr', 'start', 'end']].copy()\n",
    "    # Example four replicates of Dataset 1\n",
    "    tmp_mean_data['Dataset_1'] = data_df[['Dataset_1_1', 'Dataset_1_2', 'Dataset_1_3', 'Dataset_1_4']].mean(axis=1)\n",
    "    # Example two replicates of Dataset 2\n",
    "    tmp_mean_data['Dataset_2'] = data_df[['Dataset_2_1', 'Dataset_2_2']].mean(axis=1)\n",
    "    return tmp_mean_data"
   ]
  },
  {
   "cell_type": "code",
   "execution_count": null,
   "id": "9fec16dc-82e9-4901-b113-9715449bf8a3",
   "metadata": {},
   "outputs": [],
   "source": [
    "def get_datasets_mean_diff(data, col_1_name, col_2_name):\n",
    "    # First three columns should be always copied in order to look carefully\n",
    "    # at the particular data points (peaks)\n",
    "    tmp_data = data[['chr', 'start', 'end', col_1_name, col_2_name]].copy()\n",
    "    \n",
    "    # Calculate columns mean, diff and percentage diff\n",
    "    tmp_data['mean'] = data[[col_1_name, col_2_name]].mean(axis=1, skipna=True)\n",
    "    tmp_data['diff'] = data[col_1_name] - data[col_2_name]\n",
    "    tmp_data['diff_prc'] =  (tmp_data['diff']/tmp_data['mean'])*100\n",
    "    \n",
    "    return tmp_data"
   ]
  },
  {
   "cell_type": "code",
   "execution_count": null,
   "id": "5f74f711-5d7e-45e0-847c-5d27f77997b8",
   "metadata": {},
   "outputs": [],
   "source": [
    "def get_data_stat_summary(data, verbose: bool = True):\n",
    "    mean_diff = data['diff'].mean(skipna=True)\n",
    "    sd_diff = data['diff'].std(skipna=True)\n",
    "\n",
    "    ci_diff = stats.t.interval(alpha=0.95, df=len(data)-1,\n",
    "                               loc=mean_diff, scale=stats.sem(data['diff']))\n",
    "\n",
    "    ttest_res = stats.ttest_1samp(data['diff'], popmean=0, alternative='two-sided')\n",
    "\n",
    "    upper_limit = mean_diff + 1.96 * sd_diff\n",
    "    lower_limit = mean_diff - 1.96 * sd_diff\n",
    "\n",
    "    if verbose:\n",
    "        print(f\"Mean diff: {mean_diff}\")\n",
    "        print(f\"Diff STD: {sd_diff}\")\n",
    "        print(f\"Diff 95% CI: {ci_diff}\")\n",
    "        print(\"One sample TTest under NULL (mu=0):\")\n",
    "        print(ttest_res)\n",
    "        print(f\"\\nLimits of agreement (95%): [{lower_limit}, {upper_limit}]\")\n",
    "    \n",
    "    report = {}\n",
    "    report['mean_diff'] = mean_diff\n",
    "    report['sd_diff'] = sd_diff\n",
    "    report['ci_diff'] = ci_diff\n",
    "    report['pvalue'] = ttest_res[1]\n",
    "    report['loa_upper'] = upper_limit\n",
    "    report['loa_lower'] = lower_limit\n",
    "    \n",
    "    return report"
   ]
  },
  {
   "cell_type": "code",
   "execution_count": null,
   "id": "24757534-8180-4598-84df-a364a77bb575",
   "metadata": {},
   "outputs": [],
   "source": [
    "def make_ba_plot(data, stat_summary: dict, title=None):\n",
    "    sns.set_theme(style=\"white\", font=\"Arial\")\n",
    "    with sns.axes_style(style=sns_axes_style):\n",
    "        ba_plot = sns.scatterplot(data=data, x='mean', y='diff')\n",
    "        ba_plot.axhline(stat_summary['mean_diff'], color='k', linewidth=0.8)\n",
    "        ba_plot.axhline(0, color='grey', linewidth=0.8)\n",
    "        ba_plot.axhline(stat_summary['loa_upper'], color='r', linewidth=0.75, linestyle='--')\n",
    "        ba_plot.axhline(stat_summary['loa_lower'], color='g', linewidth=0.75, linestyle='--')\n",
    "        ba_plot.set(title=title)\n",
    "        ba_plot.get_figure().tight_layout()"
   ]
  },
  {
   "cell_type": "code",
   "execution_count": null,
   "id": "f598ec5e-e181-4c91-a9bd-49628262e965",
   "metadata": {},
   "outputs": [],
   "source": [
    "def make_ba_plot_axis(data, stat_summary: dict, fig_ax, title=None):\n",
    "    ba_plot = sns.scatterplot(data=data, x='mean', y='diff', ax=fig_ax, s=10)\n",
    "    ba_plot.axhline(stat_summary['mean_diff'], color='k', linewidth=0.8)\n",
    "    ba_plot.axhline(0, color='grey', linewidth=0.8)\n",
    "    ba_plot.axhline(stat_summary['loa_upper'], color='r', linewidth=0.75, linestyle='--')\n",
    "    ba_plot.axhline(stat_summary['loa_lower'], color='g', linewidth=0.75, linestyle='--')\n",
    "    ba_plot.set(title=title)\n",
    "    loa = f\"LoA = [{stat_summary['loa_lower']:.2f}, {stat_summary['loa_upper']:.2f}] Total = {stat_summary['loa_upper']-stat_summary['loa_lower']:.2f}\"\n",
    "    fig_ax.text(0.025, 0.025, loa,\n",
    "        verticalalignment='bottom', horizontalalignment='left',\n",
    "        transform=fig_ax.transAxes, fontsize=10)\n",
    "    ba_plot.set_ylim(-2, 2)\n",
    "    ba_plot.get_figure().tight_layout()"
   ]
  },
  {
   "cell_type": "code",
   "execution_count": null,
   "id": "c8db4a36-3527-4421-b01b-ec637863f3a4",
   "metadata": {},
   "outputs": [],
   "source": [
    "def calculate_row_count(samples_cnt, col_cnt):\n",
    "    \"\"\"\n",
    "    If plotting more than one datasets pair, \n",
    "    calculate the number of plot rows,\n",
    "    given the number of columns.\n",
    "    \"\"\"\n",
    "    if samples_cnt % col_cnt == 0:\n",
    "        return samples_cnt // col_cnt\n",
    "    else:\n",
    "        return samples_cnt // col_cnt + 1"
   ]
  },
  {
   "cell_type": "code",
   "execution_count": null,
   "id": "4af82a2d-f35a-45c1-a213-2484e05498b1",
   "metadata": {},
   "outputs": [],
   "source": [
    "def load_data(file_path) -> pd.DataFrame:\n",
    "    return pd.read_csv(file_path, header=0, sep='\\t', decimal='.')"
   ]
  },
  {
   "cell_type": "code",
   "execution_count": null,
   "id": "69b03e90-87f0-4a37-8bb1-d29f2825e8dd",
   "metadata": {},
   "outputs": [],
   "source": [
    "FIG_COLUMNS_COUNT = 1\n",
    "\n",
    "def generate_save_ba_plots(file_path, samples_mapping: list, save_figs: bool = False, dest_dir: Optional[Path] = None, verbose: bool = False):\n",
    "    tmp_df = load_data(file_path)\n",
    "    tmp_mean_df = get_mean_data(tmp_df)\n",
    "    del tmp_df\n",
    "    \n",
    "    base_file_name = file_path.stem\n",
    "    sup_title = base_file_name.replace(\"_\", \" \")\n",
    "\n",
    "    pairs_cnt = len(samples_mapping)\n",
    "    rows_cnt = calculate_row_count(pairs_cnt, FIG_COLUMNS_COUNT)\n",
    "    \n",
    "    if FIG_COLUMNS_COUNT < 2:\n",
    "        fig_width = FIG_COLUMNS_COUNT*3+1\n",
    "    else:\n",
    "        fig_width = FIG_COLUMNS_COUNT*3+3\n",
    "    \n",
    "    fig_height = rows_cnt*3.5\n",
    "    fig, axs = plt.subplots(rows_cnt, FIG_COLUMNS_COUNT, figsize=(fig_width, fig_height), sharey=True)\n",
    "    \n",
    "    fig.suptitle(sup_title)\n",
    "    \n",
    "    counter = 0\n",
    "    for row in range(0, rows_cnt):\n",
    "        for col in range(0, FIG_COLUMNS_COUNT):\n",
    "            if counter > pairs_cnt-1:\n",
    "                fig.delaxes(axs[row, col])\n",
    "                continue\n",
    "\n",
    "            mapping = samples_mapping[counter]\n",
    "            tmp_data_diff = get_datasets_mean_diff(tmp_mean_df, mapping[0], mapping[1])\n",
    "            tmp_stat_summary = get_data_stat_summary(tmp_data_diff, verbose=verbose)\n",
    "\n",
    "            if FIG_COLUMNS_COUNT < 2:\n",
    "                make_ba_plot_axis(tmp_data_diff, tmp_stat_summary, axs, title=mapping[2])\n",
    "            else:\n",
    "                make_ba_plot_axis(tmp_data_diff, tmp_stat_summary, axs[row, col], title=mapping[2])\n",
    "            \n",
    "            del tmp_data_diff, tmp_stat_summary\n",
    "            counter += 1\n",
    "\n",
    "    if save_figs and dest_dir:   \n",
    "        fig.savefig(dest_dir.joinpath(base_file_name+\"_ba.jpg\"), format='jpg', dpi=600, transparent=True)\n",
    "        fig.savefig(dest_dir.joinpath(base_file_name+\"_ba.pdf\"), format='pdf', dpi=600, transparent=True)\n",
    "        plt.close(fig)"
   ]
  },
  {
   "cell_type": "code",
   "execution_count": null,
   "id": "025c33e3-001f-445f-a017-c4a59d785065",
   "metadata": {},
   "outputs": [],
   "source": [
    "# (column_1, column_2, title)\n",
    "# diff = column_1 - column 2\n",
    "# Here, one can provide a list of tuples for as many pairs as needed.\n",
    "# Note that the sample names must be present in the dataframe generated\n",
    "# in `get_mean_data()`\n",
    "diff_pairs = [\n",
    "    (\"Dataset_1\", \"Dataset_2\", \"BA plot (DS_1 - DS_2)\"),\n",
    "]"
   ]
  },
  {
   "cell_type": "markdown",
   "id": "a7f173b6-74f8-4df1-87d1-94cd2142a125",
   "metadata": {},
   "source": [
    "#### Generate stats and plots. Save plots."
   ]
  },
  {
   "cell_type": "code",
   "execution_count": null,
   "id": "5e2b69d4-9913-4089-9c9c-19d2a50b0faf",
   "metadata": {},
   "outputs": [],
   "source": [
    "generate_save_ba_plots(\n",
    "    SRC_DIR_PATH.joinpath(\"Dataset-1_vs_Dataset-2_overlap_counts_norm_qn.txt\"), \n",
    "    diff_pairs, \n",
    "    verbose=True,\n",
    "    save_figs=False,\n",
    "    dest_dir=DEST_DIR_PATH\n",
    ")"
   ]
  }
 ],
 "metadata": {
  "kernelspec": {
   "display_name": "Python 3 (ipykernel)",
   "language": "python",
   "name": "python3"
  },
  "language_info": {
   "codemirror_mode": {
    "name": "ipython",
    "version": 3
   },
   "file_extension": ".py",
   "mimetype": "text/x-python",
   "name": "python",
   "nbconvert_exporter": "python",
   "pygments_lexer": "ipython3",
   "version": "3.8.0"
  }
 },
 "nbformat": 4,
 "nbformat_minor": 5
}
