{
 "cells": [
  {
   "cell_type": "markdown",
   "id": "879bf826-74ef-4fa2-8d3d-af1cf769b003",
   "metadata": {},
   "source": [
    "### RefSeq genes preparation for metaplots generation"
   ]
  },
  {
   "cell_type": "code",
   "execution_count": null,
   "id": "3df7c2ef-5ba8-410a-9da0-07692f941d67",
   "metadata": {},
   "outputs": [],
   "source": [
    "from pathlib import Path\n",
    "import numpy as np\n",
    "import pandas as pd"
   ]
  },
  {
   "cell_type": "code",
   "execution_count": null,
   "id": "f32813c7-ed7c-4816-8b74-17a2a8eddfea",
   "metadata": {},
   "outputs": [],
   "source": [
    "BED_col_names = ['chrom', 'chromStart', 'chromEnd', 'name', \n",
    "                 'score', 'strand', 'thickStart', 'thickEnd',\n",
    "                 'itemRgb', 'blockCount', 'blockSizes', 'blockStarts']"
   ]
  },
  {
   "cell_type": "code",
   "execution_count": null,
   "id": "54a8e0ed-3c23-4f03-96c1-c2d5358ea7de",
   "metadata": {},
   "outputs": [],
   "source": [
    "SRC_DIR_PATH = Path(r\"/path/to/genomes/\")"
   ]
  },
  {
   "cell_type": "code",
   "execution_count": null,
   "id": "dbc6e79d-386d-4119-a4e2-bf45ccba0221",
   "metadata": {},
   "outputs": [],
   "source": [
    "genes = pd.read_csv(SRC_DIR_PATH.joinpath(\"UCSC_hg38_NCBI_RefSeq_UCSC.bed\"), header=None, sep='\\t', decimal='.')"
   ]
  },
  {
   "cell_type": "code",
   "execution_count": null,
   "id": "40aa1df2-3bca-4baa-9d71-7c8620e9b6f3",
   "metadata": {},
   "outputs": [],
   "source": [
    "genes.columns = BED_col_names"
   ]
  },
  {
   "cell_type": "code",
   "execution_count": null,
   "id": "74e6e222-24eb-4eef-a16f-31d124bae38c",
   "metadata": {},
   "outputs": [],
   "source": [
    "genes.info()\n",
    "# genes.head(10)"
   ]
  },
  {
   "cell_type": "markdown",
   "id": "4c7ce1d2-9dbb-4ae8-95d7-a034ba09f268",
   "metadata": {},
   "source": [
    "#### Step 1\n",
    "Remove non-canonical chromosomes"
   ]
  },
  {
   "cell_type": "code",
   "execution_count": null,
   "id": "4c9433a9-4225-43c2-b03c-a0ded34c242a",
   "metadata": {},
   "outputs": [],
   "source": [
    "chromosomes = ['chr1', 'chr2', 'chr3', 'chr4', 'chr5', 'chr6', \n",
    "               'chr7', 'chr8', 'chr9', 'chrM', 'chrX', 'chrY', \n",
    "               'chr10', 'chr11', 'chr12', 'chr13', 'chr14', \n",
    "               'chr15', 'chr16', 'chr17', 'chr18', 'chr19', \n",
    "               'chr20', 'chr21', 'chr22']"
   ]
  },
  {
   "cell_type": "code",
   "execution_count": null,
   "id": "d4c90bf1-cdd1-4e0f-ac9d-a5b6282766a5",
   "metadata": {},
   "outputs": [],
   "source": [
    "filter_1_genes = genes.loc[genes['chrom'].isin(chromosomes)]"
   ]
  },
  {
   "cell_type": "code",
   "execution_count": null,
   "id": "4b08f85a-42da-40c1-94f6-8d0a180abf35",
   "metadata": {},
   "outputs": [],
   "source": [
    "filter_1_genes.info()"
   ]
  },
  {
   "cell_type": "code",
   "execution_count": null,
   "id": "81ba7af1-2e64-488e-a0e6-3ae7321c20fb",
   "metadata": {},
   "outputs": [],
   "source": [
    "filter_1_genes.shape"
   ]
  },
  {
   "cell_type": "markdown",
   "id": "6cf79b64-4df7-45ef-9ae3-6ea38188dd50",
   "metadata": {},
   "source": [
    "#### Step 2\n",
    "Remove all but first genes that are on the same strand and have the same start/end coordinates"
   ]
  },
  {
   "cell_type": "code",
   "execution_count": null,
   "id": "c70829d4-c23f-4a20-9b3f-6c35980a3097",
   "metadata": {},
   "outputs": [],
   "source": [
    "filter_2_genes = filter_1_genes.drop_duplicates(subset=['chrom', 'chromStart', 'chromEnd', 'strand'], keep='first', inplace=False)"
   ]
  },
  {
   "cell_type": "code",
   "execution_count": null,
   "id": "bdb590af-718e-4393-a7c8-b7606278df7f",
   "metadata": {},
   "outputs": [],
   "source": [
    "filter_2_genes.shape"
   ]
  },
  {
   "cell_type": "code",
   "execution_count": null,
   "id": "73baf34d-3ae2-4e18-afac-12d11192eb44",
   "metadata": {},
   "outputs": [],
   "source": [
    "filter_2_genes.head(10)"
   ]
  },
  {
   "cell_type": "code",
   "execution_count": null,
   "id": "43429c2c-b281-4cf1-807f-15f32de34c19",
   "metadata": {},
   "outputs": [],
   "source": [
    "# Save this step if needed\n",
    "# filter_2_genes.to_csv(SRC_DIR_PATH.joinpath(\"UCSC_hg38_NCBI_RefSeq_UCSC_filtered.bed\"), \n",
    "#                       header=None, sep='\\t', decimal='.', index=False)"
   ]
  },
  {
   "cell_type": "markdown",
   "id": "1bf24d0b-b64a-404d-abf2-2160e6bc87cf",
   "metadata": {},
   "source": [
    "#### Step intermediate\n",
    "Add column containing gene length. This will be used in the following filtering steps."
   ]
  },
  {
   "cell_type": "code",
   "execution_count": null,
   "id": "a581a600-2621-4751-ad4e-f7e4027c80e6",
   "metadata": {},
   "outputs": [],
   "source": [
    "filter_2_genes_copy = filter_2_genes.copy(deep=True)\n",
    "filter_2_genes_copy['geneLength'] = filter_2_genes_copy['chromEnd'] - filter_2_genes_copy['chromStart']"
   ]
  },
  {
   "cell_type": "code",
   "execution_count": null,
   "id": "afad3417-44c9-47bd-9941-2f911fa82cef",
   "metadata": {},
   "outputs": [],
   "source": [
    "filter_2_genes_copy.head()"
   ]
  },
  {
   "cell_type": "markdown",
   "id": "23af5b30-d89d-47e7-ba4e-dbcd3eb59d72",
   "metadata": {},
   "source": [
    "#### Step 3\n",
    "Find genes that are on the same strand and have the same start position. \n",
    "Filter out all of them but the longest one."
   ]
  },
  {
   "cell_type": "code",
   "execution_count": null,
   "id": "ea69aaa4-fcfe-4617-abbd-1fc79c3c0986",
   "metadata": {},
   "outputs": [],
   "source": [
    "tmp_subset_genes = filter_2_genes_copy.loc[filter_2_genes_copy.duplicated(subset=['chrom', 'chromStart', 'strand'], keep=False)]"
   ]
  },
  {
   "cell_type": "code",
   "execution_count": null,
   "id": "8a44c484-9068-4ab0-a210-ea561fa46fbd",
   "metadata": {},
   "outputs": [],
   "source": [
    "tmp_subset_genes.shape"
   ]
  },
  {
   "cell_type": "code",
   "execution_count": null,
   "id": "07bc9e60-29c9-4c57-a386-cafc39ed5a9f",
   "metadata": {},
   "outputs": [],
   "source": [
    "tmp_subset_genes.head()"
   ]
  },
  {
   "cell_type": "code",
   "execution_count": null,
   "id": "586d8d0b-ecf7-4cbd-9629-d8eaca062b07",
   "metadata": {},
   "outputs": [],
   "source": [
    "subset_chroms = tmp_subset_genes['chrom'].unique()"
   ]
  },
  {
   "cell_type": "code",
   "execution_count": null,
   "id": "937aed40-7da8-48d9-9791-e15e4937886e",
   "metadata": {
    "tags": []
   },
   "outputs": [],
   "source": [
    "# tmp_subset_chroms = ['chr1']\n",
    "idxs = []\n",
    "for chrom in subset_chroms:\n",
    "    for strand in ['-', '+']:\n",
    "        positions = tmp_subset_genes.loc[(tmp_subset_genes['chrom'] == chrom) & (tmp_subset_genes['strand'] == strand)]['chromStart'].unique()\n",
    "        for pos in positions:\n",
    "            tmp_genes = tmp_subset_genes.loc[(tmp_subset_genes['chrom'] == chrom) & \n",
    "                                             (tmp_subset_genes['strand'] == strand) & \n",
    "                                             (tmp_subset_genes['chromStart'] == pos)]\n",
    "            max_size_gene_idx = tmp_genes['geneLength'].idxmax()\n",
    "            idxs.append(max_size_gene_idx)\n"
   ]
  },
  {
   "cell_type": "code",
   "execution_count": null,
   "id": "7acb0ad8-d23f-443f-9cb1-7f0c38125184",
   "metadata": {},
   "outputs": [],
   "source": [
    "# Simple check\n",
    "len(idxs)"
   ]
  },
  {
   "cell_type": "code",
   "execution_count": null,
   "id": "5f763dc7-a094-406c-bd3a-431c5615ce4d",
   "metadata": {},
   "outputs": [],
   "source": [
    "max_common_start_genes = tmp_subset_genes.loc[idxs]"
   ]
  },
  {
   "cell_type": "code",
   "execution_count": null,
   "id": "9ca02fa5-40f3-48c1-8f74-3aced2468573",
   "metadata": {},
   "outputs": [],
   "source": [
    "max_common_start_genes.head()"
   ]
  },
  {
   "cell_type": "code",
   "execution_count": null,
   "id": "b9e3b927-e2e5-4601-a844-998e7df74ec0",
   "metadata": {},
   "outputs": [],
   "source": [
    "# A set of genes without duplicates on chrom, chromStart, strand\n",
    "filter_4_genes = filter_2_genes_copy.drop_duplicates(subset=['chrom', 'chromStart', 'strand'], \n",
    "                                                     keep=False, inplace=False)"
   ]
  },
  {
   "cell_type": "code",
   "execution_count": null,
   "id": "f0ead2f3-e92e-488e-905c-ecc0d2f85579",
   "metadata": {},
   "outputs": [],
   "source": [
    "print(filter_2_genes_copy.shape)\n",
    "print(filter_4_genes.shape)"
   ]
  },
  {
   "cell_type": "code",
   "execution_count": null,
   "id": "e2120484-ea61-4bd2-9861-2f2813a141a7",
   "metadata": {},
   "outputs": [],
   "source": [
    "filter_5_genes = pd.concat([filter_4_genes, max_common_start_genes])"
   ]
  },
  {
   "cell_type": "markdown",
   "id": "fb9a2be4-b83e-4d28-a8a5-8250cf08d5c9",
   "metadata": {},
   "source": [
    "### Step 4"
   ]
  },
  {
   "cell_type": "code",
   "execution_count": null,
   "id": "0f8310b4-4baa-4f35-883a-490349f6580e",
   "metadata": {},
   "outputs": [],
   "source": [
    "tmp_subset_genes_2 = filter_5_genes.loc[filter_5_genes.duplicated(subset=['chrom', 'chromEnd', 'strand'], keep=False)]"
   ]
  },
  {
   "cell_type": "code",
   "execution_count": null,
   "id": "82255954-2aa3-4b24-aef6-5f04e0194cac",
   "metadata": {},
   "outputs": [],
   "source": [
    "tmp_subset_genes_2.shape"
   ]
  },
  {
   "cell_type": "code",
   "execution_count": null,
   "id": "2010cd7c-8ca6-4d9d-b544-d14440481918",
   "metadata": {},
   "outputs": [],
   "source": [
    "subset_chroms_2 = tmp_subset_genes_2['chrom'].unique()"
   ]
  },
  {
   "cell_type": "code",
   "execution_count": null,
   "id": "44beddd7-bbdd-4b2b-a570-30d28c9c50df",
   "metadata": {
    "tags": []
   },
   "outputs": [],
   "source": [
    "# tmp_subset_chroms = ['chr1']\n",
    "idxs_2 = []\n",
    "for chrom in subset_chroms_2:\n",
    "    for strand in ['-', '+']:\n",
    "        positions = tmp_subset_genes_2.loc[(tmp_subset_genes_2['chrom'] == chrom) & (tmp_subset_genes_2['strand'] == strand)]['chromEnd'].unique()\n",
    "        for pos in positions:\n",
    "            tmp_genes = tmp_subset_genes_2.loc[(tmp_subset_genes_2['chrom'] == chrom) & \n",
    "                                             (tmp_subset_genes_2['strand'] == strand) & \n",
    "                                             (tmp_subset_genes_2['chromEnd'] == pos)]\n",
    "            max_size_gene_idx = tmp_genes['geneLength'].idxmax()\n",
    "            idxs_2.append(max_size_gene_idx)\n"
   ]
  },
  {
   "cell_type": "code",
   "execution_count": null,
   "id": "ba8b6580-c3d2-4ad5-906e-65249bfd5bdc",
   "metadata": {},
   "outputs": [],
   "source": [
    "# Simple check\n",
    "len(idxs_2)"
   ]
  },
  {
   "cell_type": "code",
   "execution_count": null,
   "id": "d3bdd3d2-756a-4a17-8e4c-c6d9436802c5",
   "metadata": {},
   "outputs": [],
   "source": [
    "max_common_end_genes = tmp_subset_genes_2.loc[idxs_2]"
   ]
  },
  {
   "cell_type": "code",
   "execution_count": null,
   "id": "20f279aa-7ebf-4c8f-8ed4-378b38a84404",
   "metadata": {},
   "outputs": [],
   "source": [
    "# A set of genes without duplicates on chrom, chromEnd, strand\n",
    "filter_6_genes = filter_5_genes.drop_duplicates(subset=['chrom', 'chromEnd', 'strand'], \n",
    "                                                keep=False, inplace=False)"
   ]
  },
  {
   "cell_type": "code",
   "execution_count": null,
   "id": "34162391-3451-40e1-948b-bee007f504fa",
   "metadata": {},
   "outputs": [],
   "source": [
    "filter_7_genes = pd.concat([filter_6_genes, max_common_end_genes])"
   ]
  },
  {
   "cell_type": "code",
   "execution_count": null,
   "id": "9768d79a-2bc0-46b3-beeb-753267245420",
   "metadata": {},
   "outputs": [],
   "source": [
    "filter_7_genes.shape"
   ]
  },
  {
   "cell_type": "code",
   "execution_count": null,
   "id": "486cc465-a8d8-4ff3-b91f-0702834c1cc9",
   "metadata": {},
   "outputs": [],
   "source": [
    "print('Initial gene count :', filter_1_genes.shape[0])\n",
    "print('Gene count with no duplicates (start, end): ', filter_2_genes.shape[0])\n",
    "print('Gene count max length only (start or end): ', filter_7_genes.shape[0])"
   ]
  },
  {
   "cell_type": "code",
   "execution_count": null,
   "id": "4b2ac73f-e3f1-427b-b980-a77a6b955679",
   "metadata": {},
   "outputs": [],
   "source": [
    "final_genes = filter_7_genes.drop(labels=['geneLength'], axis=1)"
   ]
  },
  {
   "cell_type": "code",
   "execution_count": null,
   "id": "5604c834-1a7b-4c0f-a254-b8badd719e38",
   "metadata": {},
   "outputs": [],
   "source": [
    "# Save this step if necessary\n",
    "# final_genes.to_csv(SRC_DIR_PATH.joinpath(\"UCSC_hg38_NCBI_RefSeq_UCSC_filtered.bed\"), \n",
    "#                       header=None, sep='\\t', decimal='.', index=False)"
   ]
  },
  {
   "cell_type": "code",
   "execution_count": null,
   "id": "dc6357ac-65e7-4fd1-9eb0-26a9af78bb55",
   "metadata": {},
   "outputs": [],
   "source": [
    "filter_7_genes.head(5)"
   ]
  },
  {
   "cell_type": "markdown",
   "id": "9ed25fab-da5d-42e2-bdac-7a00711b45d9",
   "metadata": {},
   "source": [
    "### Step 5"
   ]
  },
  {
   "cell_type": "markdown",
   "id": "6519fc23-dd59-41b2-b550-6419454819d7",
   "metadata": {
    "tags": []
   },
   "source": [
    "#### Find genes that have exactly the same CDS coordinates. Keep only the longer version of a gene."
   ]
  },
  {
   "cell_type": "code",
   "execution_count": null,
   "id": "1b098d1d-bd0c-4f33-b40b-98a75127c143",
   "metadata": {},
   "outputs": [],
   "source": [
    "tmp_subset_genes_3 = filter_7_genes.loc[filter_7_genes.duplicated(subset=['chrom', 'thickStart', 'thickEnd', 'strand'], keep=False)]"
   ]
  },
  {
   "cell_type": "code",
   "execution_count": null,
   "id": "47e76663-5d05-4b62-b017-8f0e7638372b",
   "metadata": {},
   "outputs": [],
   "source": [
    "# To avoid KeyError Exception get a list of chromosomes from this subset of data\n",
    "subset_chroms_3 = tmp_subset_genes_3['chrom'].unique()"
   ]
  },
  {
   "cell_type": "code",
   "execution_count": null,
   "id": "677bcb29-3278-4544-ba93-552fbf4bb090",
   "metadata": {},
   "outputs": [],
   "source": [
    "idxs_3 = []\n",
    "for chrom in subset_chroms_3:\n",
    "    for strand in ['-', '+']:\n",
    "        # Here we have a duplicates which have the same thickStart and thickEnd coordinates.\n",
    "        # We can therefore use just one coordinate to selects unique entries (the ends will be also unique) \n",
    "        positions = tmp_subset_genes_3.loc[(tmp_subset_genes_3['chrom'] == chrom) & (tmp_subset_genes_3['strand'] == strand)]['thickStart'].unique()\n",
    "        for pos in positions:\n",
    "            tmp_genes = tmp_subset_genes_3.loc[(tmp_subset_genes_3['chrom'] == chrom) & \n",
    "                                             (tmp_subset_genes_3['strand'] == strand) & \n",
    "                                             (tmp_subset_genes_3['thickStart'] == pos)]\n",
    "            max_size_gene_idx = tmp_genes['geneLength'].idxmax()\n",
    "            idxs_3.append(max_size_gene_idx)"
   ]
  },
  {
   "cell_type": "code",
   "execution_count": null,
   "id": "743154a7-3c2f-4558-ab19-66f8079750e7",
   "metadata": {},
   "outputs": [],
   "source": [
    "len(idxs_3)"
   ]
  },
  {
   "cell_type": "code",
   "execution_count": null,
   "id": "e1fa39db-69e3-4a66-9997-6807b8a9d391",
   "metadata": {},
   "outputs": [],
   "source": [
    "max_common_cds_genes = tmp_subset_genes_3.loc[idxs_3]"
   ]
  },
  {
   "cell_type": "code",
   "execution_count": null,
   "id": "16a9830e-80e2-4f0c-8aff-389ff5723d3d",
   "metadata": {},
   "outputs": [],
   "source": [
    "# A set of genes without duplicates on chrom, strand, thickStart, thickEnd\n",
    "filter_8_genes = filter_7_genes.drop_duplicates(subset=['chrom', 'thickStart', 'thickEnd', 'strand'], \n",
    "                                                keep=False, inplace=False)"
   ]
  },
  {
   "cell_type": "code",
   "execution_count": null,
   "id": "d2f1195c-e1d4-4cfc-81ad-9e220a056251",
   "metadata": {},
   "outputs": [],
   "source": [
    "# Merge above\n",
    "filter_9_genes = pd.concat([filter_8_genes, max_common_cds_genes])"
   ]
  },
  {
   "cell_type": "code",
   "execution_count": null,
   "id": "4a0d35e7-4683-4cbe-830d-afb7944a37c6",
   "metadata": {},
   "outputs": [],
   "source": [
    "print(len(filter_7_genes), len(filter_8_genes), len(filter_9_genes))"
   ]
  },
  {
   "cell_type": "code",
   "execution_count": null,
   "id": "de8adb39-c791-4090-a198-86b1d675f124",
   "metadata": {},
   "outputs": [],
   "source": [
    "# Sanity checks\n",
    "# assert len(filter_9_genes.loc[filter_9_genes.duplicated(subset=['chrom', 'chromStart', 'chromEnd', 'strand'], keep=False)]) == 0\n",
    "# assert len(filter_9_genes.loc[filter_9_genes.duplicated(subset=['chrom', 'thickStart', 'thickEnd', 'strand'], keep=False)]) == 0"
   ]
  },
  {
   "cell_type": "code",
   "execution_count": null,
   "id": "9be1f333-0cb0-4ed5-acb3-4a567b117193",
   "metadata": {},
   "outputs": [],
   "source": [
    "filter_9_genes.shape"
   ]
  },
  {
   "cell_type": "markdown",
   "id": "67f0691c-52af-46ff-b487-73f4db9fd0cf",
   "metadata": {},
   "source": [
    "#### Find genes that have one of the CDS coordinates the same. Keep only the longer version of a gene.\n",
    "Repeat steps as for chr start/end"
   ]
  },
  {
   "cell_type": "markdown",
   "id": "1b8f96e5-fb5b-4e6c-b9f5-9b19d9204c17",
   "metadata": {},
   "source": [
    "#### Step 6\n",
    "thickStart"
   ]
  },
  {
   "cell_type": "code",
   "execution_count": null,
   "id": "4c587d24-7591-4dc5-955a-a764fad49ae8",
   "metadata": {},
   "outputs": [],
   "source": [
    "tmp_subset_genes_4 = filter_9_genes.loc[filter_9_genes.duplicated(subset=['chrom', 'strand', 'thickStart'], keep=False)]"
   ]
  },
  {
   "cell_type": "code",
   "execution_count": null,
   "id": "3d2244f1-3892-486c-9d00-2d5d6a134bf9",
   "metadata": {},
   "outputs": [],
   "source": [
    "tmp_subset_genes_4.shape"
   ]
  },
  {
   "cell_type": "code",
   "execution_count": null,
   "id": "c5301684-70c7-48c4-8e7f-71f10ce7f013",
   "metadata": {
    "tags": []
   },
   "outputs": [],
   "source": [
    "subset_chroms_4 = tmp_subset_genes_4['chrom'].unique()"
   ]
  },
  {
   "cell_type": "code",
   "execution_count": null,
   "id": "8797d467-80fc-40ad-8f3c-8f579bc90109",
   "metadata": {
    "tags": []
   },
   "outputs": [],
   "source": [
    "# tmp_subset_chroms = ['chr1']\n",
    "idxs_4 = []\n",
    "for chrom in subset_chroms_4:\n",
    "    for strand in ['-', '+']:\n",
    "        positions = tmp_subset_genes_4.loc[(tmp_subset_genes_4['chrom'] == chrom) & (tmp_subset_genes_4['strand'] == strand)]['thickStart'].unique()\n",
    "        for pos in positions:\n",
    "            tmp_genes = tmp_subset_genes_4.loc[(tmp_subset_genes_4['chrom'] == chrom) & \n",
    "                                             (tmp_subset_genes_4['strand'] == strand) & \n",
    "                                             (tmp_subset_genes_4['thickStart'] == pos)]\n",
    "            max_size_gene_idx = tmp_genes['geneLength'].idxmax()\n",
    "            idxs_4.append(max_size_gene_idx)\n"
   ]
  },
  {
   "cell_type": "code",
   "execution_count": null,
   "id": "05a9977a-937b-4aed-8baf-f80528d4683a",
   "metadata": {},
   "outputs": [],
   "source": [
    "len(idxs_4)"
   ]
  },
  {
   "cell_type": "code",
   "execution_count": null,
   "id": "10474ee1-e581-48c8-95d4-f389afec0b07",
   "metadata": {},
   "outputs": [],
   "source": [
    "max_common_thick_start_genes = tmp_subset_genes_4.loc[idxs_4]"
   ]
  },
  {
   "cell_type": "code",
   "execution_count": null,
   "id": "6d37dc10-7651-47f8-bf2d-642e5f28015e",
   "metadata": {},
   "outputs": [],
   "source": [
    "# A set of genes without duplicates on chrom, chromEnd, strand\n",
    "filter_10_genes = filter_9_genes.drop_duplicates(subset=['chrom', 'strand', 'thickStart'], \n",
    "                                                keep=False, inplace=False)"
   ]
  },
  {
   "cell_type": "code",
   "execution_count": null,
   "id": "b8c2aaa4-9d5c-4a1d-a2c6-657a9944d01d",
   "metadata": {},
   "outputs": [],
   "source": [
    "filter_11_genes = pd.concat([filter_10_genes, max_common_thick_start_genes])"
   ]
  },
  {
   "cell_type": "code",
   "execution_count": null,
   "id": "61abb530-3ff4-4660-8742-db04547b87fe",
   "metadata": {},
   "outputs": [],
   "source": [
    "filter_11_genes.shape"
   ]
  },
  {
   "cell_type": "markdown",
   "id": "7fe16af1-4523-4ed3-9539-d918f69e7c8a",
   "metadata": {},
   "source": [
    "#### Step 7\n",
    "thickEnd"
   ]
  },
  {
   "cell_type": "code",
   "execution_count": null,
   "id": "5821c851-9cb6-4261-8bb2-38bc3e9ee23a",
   "metadata": {},
   "outputs": [],
   "source": [
    "tmp_subset_genes_5 = filter_11_genes.loc[filter_11_genes.duplicated(subset=['chrom', 'strand', 'thickEnd'], keep=False)]"
   ]
  },
  {
   "cell_type": "code",
   "execution_count": null,
   "id": "80517a1c-2a1b-4cd5-9ad8-011c9624a646",
   "metadata": {},
   "outputs": [],
   "source": [
    "tmp_subset_genes_5.shape"
   ]
  },
  {
   "cell_type": "code",
   "execution_count": null,
   "id": "03c7ecf3-21ce-4fb3-94cd-893f94b3ae23",
   "metadata": {
    "tags": []
   },
   "outputs": [],
   "source": [
    "subset_chroms_5 = tmp_subset_genes_5['chrom'].unique()"
   ]
  },
  {
   "cell_type": "code",
   "execution_count": null,
   "id": "9023ade0-7409-4875-867c-96ff0f1858fa",
   "metadata": {
    "tags": []
   },
   "outputs": [],
   "source": [
    "# tmp_subset_chroms = ['chr1']\n",
    "idxs_5 = []\n",
    "for chrom in subset_chroms_5:\n",
    "    for strand in ['-', '+']:\n",
    "        positions = tmp_subset_genes_5.loc[(tmp_subset_genes_5['chrom'] == chrom) & (tmp_subset_genes_5['strand'] == strand)]['thickEnd'].unique()\n",
    "        for pos in positions:\n",
    "            tmp_genes = tmp_subset_genes_5.loc[(tmp_subset_genes_5['chrom'] == chrom) & \n",
    "                                             (tmp_subset_genes_5['strand'] == strand) & \n",
    "                                             (tmp_subset_genes_5['thickEnd'] == pos)]\n",
    "            max_size_gene_idx = tmp_genes['geneLength'].idxmax()\n",
    "            idxs_5.append(max_size_gene_idx)\n"
   ]
  },
  {
   "cell_type": "code",
   "execution_count": null,
   "id": "220cc34c-a6c8-4fe3-a429-507f650ce95a",
   "metadata": {},
   "outputs": [],
   "source": [
    "len(idxs_5)"
   ]
  },
  {
   "cell_type": "code",
   "execution_count": null,
   "id": "390082be-9ab4-432d-bb7e-8332e63494a4",
   "metadata": {},
   "outputs": [],
   "source": [
    "max_common_thick_end_genes = tmp_subset_genes_5.loc[idxs_5]"
   ]
  },
  {
   "cell_type": "code",
   "execution_count": null,
   "id": "a96c3e3b-a92e-4fda-b392-e043b3017057",
   "metadata": {},
   "outputs": [],
   "source": [
    "# A set of genes without duplicates on chrom, chromEnd, strand\n",
    "filter_12_genes = filter_11_genes.drop_duplicates(subset=['chrom', 'strand', 'thickEnd'], \n",
    "                                                keep=False, inplace=False)"
   ]
  },
  {
   "cell_type": "code",
   "execution_count": null,
   "id": "7f6295a0-784a-445c-9df8-bbebcadd8106",
   "metadata": {},
   "outputs": [],
   "source": [
    "filter_13_genes = pd.concat([filter_12_genes, max_common_thick_end_genes])"
   ]
  },
  {
   "cell_type": "code",
   "execution_count": null,
   "id": "61edf661-2e12-4f25-a31d-b4272328e38a",
   "metadata": {},
   "outputs": [],
   "source": [
    "filter_13_genes.shape"
   ]
  },
  {
   "cell_type": "code",
   "execution_count": null,
   "id": "6bc7c709-e19e-4fd3-be3e-8dcc91614b54",
   "metadata": {},
   "outputs": [],
   "source": [
    "final_genes_2 = filter_13_genes.drop(labels=['geneLength'], axis=1)"
   ]
  },
  {
   "cell_type": "code",
   "execution_count": null,
   "id": "c94bab5f-5541-49a5-a0e2-d5a4cc6e4526",
   "metadata": {},
   "outputs": [],
   "source": [
    "final_genes_2.to_csv(SRC_DIR_PATH.joinpath(\"UCSC_hg38_NCBI_RefSeq_UCSC_filtered_29k.bed\"), \n",
    "                     header=None, sep='\\t', decimal='.', index=False)"
   ]
  }
 ],
 "metadata": {
  "kernelspec": {
   "display_name": "Python 3 (ipykernel)",
   "language": "python",
   "name": "python3"
  },
  "language_info": {
   "codemirror_mode": {
    "name": "ipython",
    "version": 3
   },
   "file_extension": ".py",
   "mimetype": "text/x-python",
   "name": "python",
   "nbconvert_exporter": "python",
   "pygments_lexer": "ipython3",
   "version": "3.8.0"
  }
 },
 "nbformat": 4,
 "nbformat_minor": 5
}
