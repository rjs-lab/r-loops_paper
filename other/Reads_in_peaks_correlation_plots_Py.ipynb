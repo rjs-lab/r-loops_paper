{
 "cells": [
  {
   "cell_type": "markdown",
   "id": "25c0cfa9-5dcf-4f3f-b896-9ddfb8351d21",
   "metadata": {},
   "source": [
    "### Correlation plots\n",
    "\n",
    "Read counts in overlapping peaks (DRIPc, ChIP, RNA-seq)"
   ]
  },
  {
   "cell_type": "code",
   "execution_count": null,
   "id": "b772e3e3-0764-4a43-a5de-777ff2779737",
   "metadata": {},
   "outputs": [],
   "source": [
    "from pathlib import Path\n",
    "\n",
    "import numpy as np\n",
    "import pandas as pd\n",
    "\n",
    "import matplotlib.pyplot as plt\n",
    "import matplotlib as mpl\n",
    "import seaborn as sns\n",
    "\n",
    "from scipy.stats import pearsonr"
   ]
  },
  {
   "cell_type": "code",
   "execution_count": null,
   "id": "7b892093-2fb0-42e5-80f6-982b0d8d8b9c",
   "metadata": {},
   "outputs": [],
   "source": [
    "# Make SVG text as font not as curves\n",
    "mpl.rcParams['svg.fonttype'] = 'none'\n",
    "\n",
    "mpl.rcParams['font.sans-serif'].insert(0, 'Arial')\n",
    "mpl.rcParams['font.family'] = 'sans-serif'"
   ]
  },
  {
   "cell_type": "code",
   "execution_count": null,
   "id": "4a2695b8-6f2c-45de-b8a3-f1b0923454e9",
   "metadata": {},
   "outputs": [],
   "source": [
    "# If one doesn't want to save, every time all the cells are run, set to False\n",
    "SAVE_FIGS = True"
   ]
  },
  {
   "cell_type": "code",
   "execution_count": null,
   "id": "815cd267-656b-46a8-816d-e9d6be0bda86",
   "metadata": {},
   "outputs": [],
   "source": [
    "# Path to a directory with bam stats files (generated with `samtools stats`)\n",
    "SRC_DIR_PATH = Path(r\"/path/to/data/bam\")\n",
    "\n",
    "DEST_DIR_PATH = Path(r\"/path/to/data/bam\")"
   ]
  },
  {
   "cell_type": "markdown",
   "id": "b3398f50-b1e4-4a6e-a8b3-d7f5a2502bc4",
   "metadata": {},
   "source": [
    "##### Get the number of mapped and paired reads (fragments) from '.stats' files and calculate size factors.\n",
    "One can generate a dict with the size factors of all libraries handled in the project."
   ]
  },
  {
   "cell_type": "code",
   "execution_count": null,
   "id": "3e077bdf-6739-4a46-88fb-1d1dc8917d5a",
   "metadata": {},
   "outputs": [],
   "source": [
    "def get_mapped_reads_count(file_name: str) -> int:\n",
    "    with open(file_name, mode='r') as f:\n",
    "        for line in f.readlines():\n",
    "            if line.startswith('#'):\n",
    "                continue\n",
    "            elif line.startswith('SN'):\n",
    "                data = line.split('\\t')\n",
    "                if data[1].strip() == 'reads mapped and paired:':\n",
    "                    return int(data[2].strip())"
   ]
  },
  {
   "cell_type": "markdown",
   "id": "e846fac8-0a40-4fe3-a76b-35da025d52f8",
   "metadata": {},
   "source": [
    "Generate a dictionary with sample names and library sizes.\n",
    "\n",
    "The sample name is derived from the .stat file name."
   ]
  },
  {
   "cell_type": "code",
   "execution_count": null,
   "id": "f60708a6-789e-4d43-91a5-7a417f1dea6b",
   "metadata": {},
   "outputs": [],
   "source": [
    "mapped_reads = {}\n",
    "for file_path in SRC_DIR_PATH.glob(\"*.stats\"):\n",
    "    file_name = file_path.stem\n",
    "    reads_count = get_mapped_reads_count(file_path)\n",
    "    print(f\"{file_name}: {reads_count}\")\n",
    "    mapped_reads[file_name] = reads_count"
   ]
  },
  {
   "cell_type": "markdown",
   "id": "c160983f-54e1-4c6c-9959-639f29b5576f",
   "metadata": {},
   "source": [
    "Get size factors"
   ]
  },
  {
   "cell_type": "code",
   "execution_count": null,
   "id": "dd97c4db-3b84-4798-a397-cd90468a6f8a",
   "metadata": {},
   "outputs": [],
   "source": [
    "size_factors = {}\n",
    "for sample, reads in mapped_reads.items():\n",
    "    size_factors[sample_name] = reads/1e6"
   ]
  },
  {
   "cell_type": "code",
   "execution_count": null,
   "id": "aba90991-03d9-4246-b48f-b2becc541725",
   "metadata": {},
   "outputs": [],
   "source": [
    "# size_factors"
   ]
  },
  {
   "cell_type": "markdown",
   "id": "9a07ca46-8d4b-494d-aa69-17c64dff4ea3",
   "metadata": {},
   "source": [
    "Now we have a dictionary with sample file name and the library size factors."
   ]
  },
  {
   "cell_type": "code",
   "execution_count": null,
   "id": "2b936181-b9e0-4a08-9ae0-b00ee82d5d64",
   "metadata": {},
   "outputs": [],
   "source": [
    "chromosomes = ['chr1', 'chr2', 'chr3', 'chr4', 'chr5', 'chr6', \n",
    "               'chr7', 'chr8', 'chr9', 'chrM', 'chrX', 'chrY', \n",
    "               'chr10', 'chr11', 'chr12', 'chr13', 'chr14', \n",
    "               'chr15', 'chr16', 'chr17', 'chr18', 'chr19', \n",
    "               'chr20', 'chr21', 'chr22']"
   ]
  },
  {
   "cell_type": "markdown",
   "id": "098ed00f-4454-4008-930a-9aca1f789ba6",
   "metadata": {},
   "source": [
    "##### Read in peaks+reads file"
   ]
  },
  {
   "cell_type": "code",
   "execution_count": null,
   "id": "c67802fa-bdb5-4e3e-b224-e5ed39a896f6",
   "metadata": {
    "tags": []
   },
   "outputs": [],
   "source": [
    "# Path to a file (bed, narrowPeak, bradPeak, other) with read counts in peaks/regions (rows)\n",
    "# The 'chrom', 'chromStart', 'chromEnd' columns are mandatory.\n",
    "# There should be named columns with samples.\n",
    "# Example column names.\n",
    "# example_col_names = [\n",
    "#     'chrom', 'chromStart', 'chromEnd', 'name',\n",
    "#     'score', 'strand', 'signalValue', 'pValue', \n",
    "#     'qValue', 'Dataset_1_1', 'Dataset_1_2', 'Dataset_2_1',\n",
    "#     'Dataset_2_2', 'Dataset_3_1', 'Dataset_3_2'\n",
    "# ]\n",
    "\n",
    "peaks_file_path = Path(r\"/path/to/peaks/counted/Dataset_1-2-3_overlap.txt\")\n",
    "peaks_data = pd.read_csv(peaks_file_path, sep='\\t', decimal='.', header=None)"
   ]
  },
  {
   "cell_type": "code",
   "execution_count": null,
   "id": "e2610ed1-82c5-452e-ad1a-fea2d944a06b",
   "metadata": {},
   "outputs": [],
   "source": [
    "peaks_data.head(3)"
   ]
  },
  {
   "cell_type": "code",
   "execution_count": null,
   "id": "5ebace78-c41e-4a56-a685-7b5aaa3c3af9",
   "metadata": {},
   "outputs": [],
   "source": [
    "peaks_data.describe()"
   ]
  },
  {
   "cell_type": "markdown",
   "id": "5dbe7ba6-0760-4e64-aa53-0824ff10b790",
   "metadata": {},
   "source": [
    "Filter out contigs and non-standrd chromosomes."
   ]
  },
  {
   "cell_type": "code",
   "execution_count": null,
   "id": "3e0cfef3-8ce1-4155-872a-e545e058dcee",
   "metadata": {},
   "outputs": [],
   "source": [
    "peaks_data_filtered = peaks_data.loc[peaks_data['chrom'].isin(chromosomes)].copy(deep=True)"
   ]
  },
  {
   "cell_type": "markdown",
   "id": "0d9fef6e-2a4b-43c8-950a-9c8ba2591ff8",
   "metadata": {},
   "source": [
    "Calculate peak width for FPKM calculation "
   ]
  },
  {
   "cell_type": "code",
   "execution_count": null,
   "id": "d7235a79-5583-4f22-a63f-76088d6ec326",
   "metadata": {},
   "outputs": [],
   "source": [
    "peaks_data_filtered['peakLength'] = peaks_data_filtered['chromEnd'] - peaks_data_filtered['chromStart']"
   ]
  },
  {
   "cell_type": "markdown",
   "id": "5e853ad2-b3e2-4c7f-afd0-f4373d24fd0d",
   "metadata": {},
   "source": [
    "We need to log transform the data for correlations. In some peaks there maybe no reads (0).\n",
    "So, one can add 1 to each peak fragments counts."
   ]
  },
  {
   "cell_type": "code",
   "execution_count": null,
   "id": "9687506e-24a8-45a2-bbe3-fe3c8a9860de",
   "metadata": {},
   "outputs": [],
   "source": [
    "peaks_data_filtered['Dataset_1_1'] = peaks_data_filtered['Dataset_1_1']+1\n",
    "peaks_data_filtered['Dataset_1_2'] = peaks_data_filtered['Dataset_1_2']+1\n",
    "peaks_data_filtered['Dataset_2_1'] = peaks_data_filtered['Dataset_2_1']+1\n",
    "# And so on..."
   ]
  },
  {
   "cell_type": "markdown",
   "id": "ef11c7a3-98a5-49c9-bf0e-b593de1435e4",
   "metadata": {},
   "source": [
    "#### Normlisation"
   ]
  },
  {
   "cell_type": "code",
   "execution_count": null,
   "id": "21cb74b1-38a2-4c91-8a01-0c03db9b4043",
   "metadata": {},
   "outputs": [],
   "source": [
    "columns_to_normalize = [\n",
    "    'Dataset_1_1', 'Dataset_1_2', \n",
    "    'Dataset_2_1', 'Dataset_2_2',\n",
    "    'Dataset_3_1', 'Dataset_3_2',\n",
    "]"
   ]
  },
  {
   "cell_type": "markdown",
   "id": "52739b50-cb13-4270-b170-b5b0fa8b4349",
   "metadata": {},
   "source": [
    "Normalize fragment counts with size factors."
   ]
  },
  {
   "cell_type": "code",
   "execution_count": null,
   "id": "c6863e48-7d83-4d0b-abc3-85050f8dae89",
   "metadata": {},
   "outputs": [],
   "source": [
    "for col_name in columns_to_normalize:\n",
    "    new_col_name = col_name+'_FPM'\n",
    "    peaks_data_filtered[new_col_name] = (peaks_data_filtered[col_name]+1)/size_factors[col_name]"
   ]
  },
  {
   "cell_type": "markdown",
   "id": "da201947-764d-4709-84ca-30e1a6737924",
   "metadata": {},
   "source": [
    "Normalize for peak length"
   ]
  },
  {
   "cell_type": "code",
   "execution_count": null,
   "id": "61cdbf68-52cf-4d6d-aaa4-c38af7919d4c",
   "metadata": {},
   "outputs": [],
   "source": [
    "for col_name in columns_to_normalize:\n",
    "    FPM_col_name = col_name+'_FPM'\n",
    "    new_col_name = col_name+'_FPKM'\n",
    "    peaks_data_filtered[new_col_name] = (peaks_data_filtered[FPM_col_name]+1)/(peaks_data_filtered['peakLength']/1000)"
   ]
  },
  {
   "cell_type": "markdown",
   "id": "2ba6424c-9078-49ee-a0f0-5b38616bea1a",
   "metadata": {},
   "source": [
    "#### Average replicates"
   ]
  },
  {
   "cell_type": "markdown",
   "id": "03e9a084-ddd0-4692-a2a9-deb8c2bd6081",
   "metadata": {},
   "source": [
    "Generate means of replicate samples, if any. Here we just prepare dictionary with a mapping of replicates to a sample."
   ]
  },
  {
   "cell_type": "code",
   "execution_count": null,
   "id": "2f93609c-a018-4268-8e0b-758955ac360c",
   "metadata": {},
   "outputs": [],
   "source": [
    "samples_mapping = {\n",
    "    \"Dataset_1\": ['Dataset_1_1', 'Dataset_1_2'],\n",
    "    \"Dataset_2\": ['Dataset_2_1', 'Dataset_2_2'],\n",
    "    \"Dataset_3\": ['Dataset_3_1', 'Dataset_3_2'],\n",
    "    # And so on. One may have more replicates mapping to a final sample.\n",
    "    # Keep in mind that the names in the lists must correspond to the column\n",
    "    # names in the dataframe.\n",
    "}"
   ]
  },
  {
   "cell_type": "code",
   "execution_count": null,
   "id": "008a45ac-d3e8-4975-b4ae-2b0518718a3d",
   "metadata": {},
   "outputs": [],
   "source": [
    "for sample_name, samples in samples_mapping.items():\n",
    "    peaks_data_filtered[sample_name] = peaks_data_filtered[samples].mean(axis=1)"
   ]
  },
  {
   "cell_type": "code",
   "execution_count": null,
   "id": "d236d369-091e-424e-9766-a25745ce0c5d",
   "metadata": {},
   "outputs": [],
   "source": [
    "for sample_name, samples in samples_mapping_FPM.items():\n",
    "    peaks_data_filtered[sample_name] = peaks_data_filtered[samples].mean(axis=1)"
   ]
  },
  {
   "cell_type": "code",
   "execution_count": null,
   "id": "e22c37e7-0b9d-438c-8404-bc5708b5a482",
   "metadata": {},
   "outputs": [],
   "source": [
    "for sample_name, samples in samples_mapping_FPKM.items():\n",
    "    peaks_data_filtered[sample_name] = peaks_data_filtered[samples].mean(axis=1)"
   ]
  },
  {
   "cell_type": "code",
   "execution_count": null,
   "id": "91022650-8ed4-46bc-84d1-ce190325d24e",
   "metadata": {},
   "outputs": [],
   "source": [
    "peaks_data_filtered.describe()"
   ]
  },
  {
   "cell_type": "code",
   "execution_count": null,
   "id": "dcc2a34f-773e-421d-aa7b-ec0228151864",
   "metadata": {},
   "outputs": [],
   "source": [
    "peaks_data_filtered.sample(5)"
   ]
  },
  {
   "cell_type": "markdown",
   "id": "a2170069-57ea-4984-9338-446b753c9718",
   "metadata": {},
   "source": [
    "#### Pearson correlation"
   ]
  },
  {
   "cell_type": "code",
   "execution_count": null,
   "id": "100204c0-8f9a-4456-8dbc-307f0184344a",
   "metadata": {},
   "outputs": [],
   "source": [
    "pearson_r, pearson_pvalue = pearsonr(x=np.log10((peaks_data_filtered['Dataset_1']+1)), \n",
    "                                     y=np.log10((peaks_data_filtered['Dataset_2']+1)))"
   ]
  },
  {
   "cell_type": "code",
   "execution_count": null,
   "id": "54eb6a49-752b-4fb5-87b9-e8748959fa66",
   "metadata": {},
   "outputs": [],
   "source": [
    "pearson_r_FPM, pearson_pvalue_FPM = pearsonr(x=np.log10(peaks_data_filtered['Dataset_1_FPM']), \n",
    "                                     y=np.log10(peaks_data_filtered['Dataset_2_FPM']))"
   ]
  },
  {
   "cell_type": "code",
   "execution_count": null,
   "id": "0fecdd98-9294-4c84-adf7-ac7e310a7f29",
   "metadata": {},
   "outputs": [],
   "source": [
    "pearson_r_FPKM, pearson_pvalue_FPKM = pearsonr(x=np.log10(peaks_data_filtered['Dataset_1_FPKM']), \n",
    "                                     y=np.log10(peaks_data_filtered['Dataset_2_FPKM']))"
   ]
  },
  {
   "cell_type": "code",
   "execution_count": null,
   "id": "ef27a3da-0417-4bf0-bb08-35962501a755",
   "metadata": {},
   "outputs": [],
   "source": [
    "g = sns.JointGrid(x=np.log10(peaks_data_filtered['Dataset_1_FPKM']), \n",
    "                  y=np.log10(peaks_data_filtered['Dataset_2_FPKM']), \n",
    "                  height=3.5)\n",
    "g.plot_joint(sns.regplot, order=1, ci=95, fit_reg=False,\n",
    "             scatter_kws={'s': 4.5, 'linewidths': 0.1, \n",
    "                                                'edgecolor': 'white'})\n",
    "x0, x1 = g.ax_joint.get_xlim()\n",
    "y0, y1 = g.ax_joint.get_ylim()\n",
    "g.ax_joint.text(x0, y1-0.5, f'r={pearson_r_FPKM:.2f}\\np-value={pearson_pvalue_FPKM:.2f}')\n",
    "g.plot_marginals(sns.kdeplot, fill=True)\n",
    "g.set_axis_labels('log10(Dataset 1 FPKM)', 'log10(Dataset 2 FPKM)')"
   ]
  },
  {
   "cell_type": "code",
   "execution_count": null,
   "id": "a564a0f2-ba25-464e-b9ac-8460cf96cfa6",
   "metadata": {},
   "outputs": [],
   "source": [
    "if SAVE_FIGS:\n",
    "    fig_file_name = r\"Dataset_1_vs_Dataset_2_correlation_jointplot\"\n",
    "    g.savefig(DEST_DIR_PATH.joinpath(fig_file_name+\".png\"), format='png', dpi=300, transparent=True)\n",
    "    g.savefig(DEST_DIR_PATH.joinpath(fig_file_name+\".pdf\"), format='pdf', dpi=300, transparent=True)"
   ]
  },
  {
   "cell_type": "markdown",
   "id": "3deb20bb-d64c-4542-9076-dba1674dd752",
   "metadata": {},
   "source": [
    "Repeat the above steps for each pair of samples you have in your dataframe (from Pearson correlation heading)"
   ]
  }
 ],
 "metadata": {
  "kernelspec": {
   "display_name": "Python 3 (ipykernel)",
   "language": "python",
   "name": "python3"
  },
  "language_info": {
   "codemirror_mode": {
    "name": "ipython",
    "version": 3
   },
   "file_extension": ".py",
   "mimetype": "text/x-python",
   "name": "python",
   "nbconvert_exporter": "python",
   "pygments_lexer": "ipython3",
   "version": "3.8.0"
  }
 },
 "nbformat": 4,
 "nbformat_minor": 5
}
